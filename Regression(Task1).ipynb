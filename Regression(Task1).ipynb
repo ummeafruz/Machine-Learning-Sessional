{
  "nbformat": 4,
  "nbformat_minor": 0,
  "metadata": {
    "colab": {
      "name": "Regression(Task1).ipynb",
      "provenance": [],
      "collapsed_sections": [],
      "authorship_tag": "ABX9TyMjxmU1RFFaHz0vP6bxIRcC",
      "include_colab_link": true
    },
    "kernelspec": {
      "name": "python3",
      "display_name": "Python 3"
    },
    "language_info": {
      "name": "python"
    },
    "accelerator": "GPU"
  },
  "cells": [
    {
      "cell_type": "markdown",
      "metadata": {
        "id": "view-in-github",
        "colab_type": "text"
      },
      "source": [
        "<a href=\"https://colab.research.google.com/github/ummeafruz/Machine-Learning-Sessional/blob/main/Regression(Task1).ipynb\" target=\"_parent\"><img src=\"https://colab.research.google.com/assets/colab-badge.svg\" alt=\"Open In Colab\"/></a>"
      ]
    },
    {
      "cell_type": "markdown",
      "metadata": {
        "id": "Q30pJUgw60mX"
      },
      "source": [
        "\n",
        "# Experiment Name: Exploring different types of Regression`\n",
        "\n",
        "Experiment No: 01\n",
        "\n",
        "Couse No: ETE 456 \n",
        "\n",
        "Course Name: Neural and Fuzzy Systems in Communications Sessional\n",
        "\n",
        "Submitted By:\n",
        "\n",
        "                  Name: Umme Afruz\n",
        "\n",
        "                  Id: 1608011\n",
        "\n",
        "                  Level: 4\n",
        "\n",
        "                  Term: II\n",
        "\n",
        "\n",
        "**Objective**: \n",
        " 1. *To get familiar with regression in machine learning.*\n",
        " 2. *To learn about different types of regression algorithms.*\n",
        " 3. *To apply various regression algorithms on the real world dataset.*\n"
      ]
    },
    {
      "cell_type": "markdown",
      "metadata": {
        "id": "R7i6y0sel1T7"
      },
      "source": [
        "### **Task**\n",
        "\n",
        "### Prediction of Insurance Costs:"
      ]
    },
    {
      "cell_type": "code",
      "metadata": {
        "id": "7qTI92mv48FZ"
      },
      "source": [
        "import warnings\n",
        "warnings.filterwarnings(\"ignore\")"
      ],
      "execution_count": null,
      "outputs": []
    },
    {
      "cell_type": "markdown",
      "metadata": {
        "id": "RQtDcUAL5jF9"
      },
      "source": [
        "### Import the libraries:\n",
        "Pandas is an open-source python library that is used for data manipulation and analysis. It provides many functions and methods to speed up the data analysis process. NumPy stands for 'Numerical Python'. It is an open-source Python library used to perform various mathematical and scientific tasks. It contains multi-dimensional arrays and matrices, along with many high-level mathematical functions that operate on these arrays and matrices."
      ]
    },
    {
      "cell_type": "code",
      "metadata": {
        "id": "ZM_ZOVS_hUX0"
      },
      "source": [
        "import numpy as np        \n",
        "import pandas as pd     \n",
        "import matplotlib.pyplot as plt   "
      ],
      "execution_count": null,
      "outputs": []
    },
    {
      "cell_type": "markdown",
      "metadata": {
        "id": "ECZQHzsy5tG-"
      },
      "source": [
        "### Dataset:"
      ]
    },
    {
      "cell_type": "code",
      "metadata": {
        "id": "Hz4CQXbpLhNh",
        "colab": {
          "base_uri": "https://localhost:8080/"
        },
        "outputId": "4f31d7d7-8374-4006-c98e-12c3a61709c4"
      },
      "source": [
        "# Download the data\n",
        "!wget -O insurance.csv https://www.dropbox.com/s/mwgqgjbmfw0xa5p/insurance.csv?dl=0"
      ],
      "execution_count": null,
      "outputs": [
        {
          "output_type": "stream",
          "name": "stdout",
          "text": [
            "--2021-12-20 18:54:31--  https://www.dropbox.com/s/mwgqgjbmfw0xa5p/insurance.csv?dl=0\n",
            "Resolving www.dropbox.com (www.dropbox.com)... 162.125.80.18, 2620:100:601b:18::a27d:812\n",
            "Connecting to www.dropbox.com (www.dropbox.com)|162.125.80.18|:443... connected.\n",
            "HTTP request sent, awaiting response... 301 Moved Permanently\n",
            "Location: /s/raw/mwgqgjbmfw0xa5p/insurance.csv [following]\n",
            "--2021-12-20 18:54:32--  https://www.dropbox.com/s/raw/mwgqgjbmfw0xa5p/insurance.csv\n",
            "Reusing existing connection to www.dropbox.com:443.\n",
            "HTTP request sent, awaiting response... 302 Found\n",
            "Location: https://ucddd6c542343ab482bda8b6b4fb.dl.dropboxusercontent.com/cd/0/inline/BcPq5pE7lucrAbJpKwaB-IBtrk6kdOLt-6X7sUtZG-1bvNCgh65juA60GMKIvhjNYza4SzKragpDhHRCj8Kbhz-2Ommqq5pjC7Mew-ooks5zidf4EOb71pBdgUwATmbDZdzZEBbqmCOv2yfvH76C68TQ/file# [following]\n",
            "--2021-12-20 18:54:33--  https://ucddd6c542343ab482bda8b6b4fb.dl.dropboxusercontent.com/cd/0/inline/BcPq5pE7lucrAbJpKwaB-IBtrk6kdOLt-6X7sUtZG-1bvNCgh65juA60GMKIvhjNYza4SzKragpDhHRCj8Kbhz-2Ommqq5pjC7Mew-ooks5zidf4EOb71pBdgUwATmbDZdzZEBbqmCOv2yfvH76C68TQ/file\n",
            "Resolving ucddd6c542343ab482bda8b6b4fb.dl.dropboxusercontent.com (ucddd6c542343ab482bda8b6b4fb.dl.dropboxusercontent.com)... 162.125.3.15, 2620:100:601d:15::a27d:50f\n",
            "Connecting to ucddd6c542343ab482bda8b6b4fb.dl.dropboxusercontent.com (ucddd6c542343ab482bda8b6b4fb.dl.dropboxusercontent.com)|162.125.3.15|:443... connected.\n",
            "HTTP request sent, awaiting response... 200 OK\n",
            "Length: 55628 (54K) [text/plain]\n",
            "Saving to: ‘insurance.csv’\n",
            "\n",
            "insurance.csv       100%[===================>]  54.32K  --.-KB/s    in 0.01s   \n",
            "\n",
            "2021-12-20 18:54:33 (3.56 MB/s) - ‘insurance.csv’ saved [55628/55628]\n",
            "\n"
          ]
        }
      ]
    },
    {
      "cell_type": "markdown",
      "source": [
        "## Importing the dataset "
      ],
      "metadata": {
        "id": "JEMDUNwJFC-V"
      }
    },
    {
      "cell_type": "code",
      "metadata": {
        "colab": {
          "base_uri": "https://localhost:8080/",
          "height": 423
        },
        "id": "GCSKRXrUhIqZ",
        "outputId": "c6fae1dd-6972-4a14-8632-10b1deba6368"
      },
      "source": [
        "dataset = pd.read_csv('insurance.csv')\n",
        "dataset"
      ],
      "execution_count": null,
      "outputs": [
        {
          "output_type": "execute_result",
          "data": {
            "text/html": [
              "\n",
              "  <div id=\"df-11385e9f-8e36-4a0b-bd29-8165cf21cedf\">\n",
              "    <div class=\"colab-df-container\">\n",
              "      <div>\n",
              "<style scoped>\n",
              "    .dataframe tbody tr th:only-of-type {\n",
              "        vertical-align: middle;\n",
              "    }\n",
              "\n",
              "    .dataframe tbody tr th {\n",
              "        vertical-align: top;\n",
              "    }\n",
              "\n",
              "    .dataframe thead th {\n",
              "        text-align: right;\n",
              "    }\n",
              "</style>\n",
              "<table border=\"1\" class=\"dataframe\">\n",
              "  <thead>\n",
              "    <tr style=\"text-align: right;\">\n",
              "      <th></th>\n",
              "      <th>age</th>\n",
              "      <th>sex</th>\n",
              "      <th>bmi</th>\n",
              "      <th>children</th>\n",
              "      <th>smoker</th>\n",
              "      <th>region</th>\n",
              "      <th>charges</th>\n",
              "    </tr>\n",
              "  </thead>\n",
              "  <tbody>\n",
              "    <tr>\n",
              "      <th>0</th>\n",
              "      <td>19</td>\n",
              "      <td>female</td>\n",
              "      <td>27.900</td>\n",
              "      <td>0</td>\n",
              "      <td>yes</td>\n",
              "      <td>southwest</td>\n",
              "      <td>16884.92400</td>\n",
              "    </tr>\n",
              "    <tr>\n",
              "      <th>1</th>\n",
              "      <td>18</td>\n",
              "      <td>male</td>\n",
              "      <td>33.770</td>\n",
              "      <td>1</td>\n",
              "      <td>no</td>\n",
              "      <td>southeast</td>\n",
              "      <td>1725.55230</td>\n",
              "    </tr>\n",
              "    <tr>\n",
              "      <th>2</th>\n",
              "      <td>28</td>\n",
              "      <td>male</td>\n",
              "      <td>33.000</td>\n",
              "      <td>3</td>\n",
              "      <td>no</td>\n",
              "      <td>southeast</td>\n",
              "      <td>4449.46200</td>\n",
              "    </tr>\n",
              "    <tr>\n",
              "      <th>3</th>\n",
              "      <td>33</td>\n",
              "      <td>male</td>\n",
              "      <td>22.705</td>\n",
              "      <td>0</td>\n",
              "      <td>no</td>\n",
              "      <td>northwest</td>\n",
              "      <td>21984.47061</td>\n",
              "    </tr>\n",
              "    <tr>\n",
              "      <th>4</th>\n",
              "      <td>32</td>\n",
              "      <td>male</td>\n",
              "      <td>28.880</td>\n",
              "      <td>0</td>\n",
              "      <td>no</td>\n",
              "      <td>northwest</td>\n",
              "      <td>3866.85520</td>\n",
              "    </tr>\n",
              "    <tr>\n",
              "      <th>...</th>\n",
              "      <td>...</td>\n",
              "      <td>...</td>\n",
              "      <td>...</td>\n",
              "      <td>...</td>\n",
              "      <td>...</td>\n",
              "      <td>...</td>\n",
              "      <td>...</td>\n",
              "    </tr>\n",
              "    <tr>\n",
              "      <th>1333</th>\n",
              "      <td>50</td>\n",
              "      <td>male</td>\n",
              "      <td>30.970</td>\n",
              "      <td>3</td>\n",
              "      <td>no</td>\n",
              "      <td>northwest</td>\n",
              "      <td>10600.54830</td>\n",
              "    </tr>\n",
              "    <tr>\n",
              "      <th>1334</th>\n",
              "      <td>18</td>\n",
              "      <td>female</td>\n",
              "      <td>31.920</td>\n",
              "      <td>0</td>\n",
              "      <td>no</td>\n",
              "      <td>northeast</td>\n",
              "      <td>2205.98080</td>\n",
              "    </tr>\n",
              "    <tr>\n",
              "      <th>1335</th>\n",
              "      <td>18</td>\n",
              "      <td>female</td>\n",
              "      <td>36.850</td>\n",
              "      <td>0</td>\n",
              "      <td>no</td>\n",
              "      <td>southeast</td>\n",
              "      <td>1629.83350</td>\n",
              "    </tr>\n",
              "    <tr>\n",
              "      <th>1336</th>\n",
              "      <td>21</td>\n",
              "      <td>female</td>\n",
              "      <td>25.800</td>\n",
              "      <td>0</td>\n",
              "      <td>no</td>\n",
              "      <td>southwest</td>\n",
              "      <td>2007.94500</td>\n",
              "    </tr>\n",
              "    <tr>\n",
              "      <th>1337</th>\n",
              "      <td>61</td>\n",
              "      <td>female</td>\n",
              "      <td>29.070</td>\n",
              "      <td>0</td>\n",
              "      <td>yes</td>\n",
              "      <td>northwest</td>\n",
              "      <td>29141.36030</td>\n",
              "    </tr>\n",
              "  </tbody>\n",
              "</table>\n",
              "<p>1338 rows × 7 columns</p>\n",
              "</div>\n",
              "      <button class=\"colab-df-convert\" onclick=\"convertToInteractive('df-11385e9f-8e36-4a0b-bd29-8165cf21cedf')\"\n",
              "              title=\"Convert this dataframe to an interactive table.\"\n",
              "              style=\"display:none;\">\n",
              "        \n",
              "  <svg xmlns=\"http://www.w3.org/2000/svg\" height=\"24px\"viewBox=\"0 0 24 24\"\n",
              "       width=\"24px\">\n",
              "    <path d=\"M0 0h24v24H0V0z\" fill=\"none\"/>\n",
              "    <path d=\"M18.56 5.44l.94 2.06.94-2.06 2.06-.94-2.06-.94-.94-2.06-.94 2.06-2.06.94zm-11 1L8.5 8.5l.94-2.06 2.06-.94-2.06-.94L8.5 2.5l-.94 2.06-2.06.94zm10 10l.94 2.06.94-2.06 2.06-.94-2.06-.94-.94-2.06-.94 2.06-2.06.94z\"/><path d=\"M17.41 7.96l-1.37-1.37c-.4-.4-.92-.59-1.43-.59-.52 0-1.04.2-1.43.59L10.3 9.45l-7.72 7.72c-.78.78-.78 2.05 0 2.83L4 21.41c.39.39.9.59 1.41.59.51 0 1.02-.2 1.41-.59l7.78-7.78 2.81-2.81c.8-.78.8-2.07 0-2.86zM5.41 20L4 18.59l7.72-7.72 1.47 1.35L5.41 20z\"/>\n",
              "  </svg>\n",
              "      </button>\n",
              "      \n",
              "  <style>\n",
              "    .colab-df-container {\n",
              "      display:flex;\n",
              "      flex-wrap:wrap;\n",
              "      gap: 12px;\n",
              "    }\n",
              "\n",
              "    .colab-df-convert {\n",
              "      background-color: #E8F0FE;\n",
              "      border: none;\n",
              "      border-radius: 50%;\n",
              "      cursor: pointer;\n",
              "      display: none;\n",
              "      fill: #1967D2;\n",
              "      height: 32px;\n",
              "      padding: 0 0 0 0;\n",
              "      width: 32px;\n",
              "    }\n",
              "\n",
              "    .colab-df-convert:hover {\n",
              "      background-color: #E2EBFA;\n",
              "      box-shadow: 0px 1px 2px rgba(60, 64, 67, 0.3), 0px 1px 3px 1px rgba(60, 64, 67, 0.15);\n",
              "      fill: #174EA6;\n",
              "    }\n",
              "\n",
              "    [theme=dark] .colab-df-convert {\n",
              "      background-color: #3B4455;\n",
              "      fill: #D2E3FC;\n",
              "    }\n",
              "\n",
              "    [theme=dark] .colab-df-convert:hover {\n",
              "      background-color: #434B5C;\n",
              "      box-shadow: 0px 1px 3px 1px rgba(0, 0, 0, 0.15);\n",
              "      filter: drop-shadow(0px 1px 2px rgba(0, 0, 0, 0.3));\n",
              "      fill: #FFFFFF;\n",
              "    }\n",
              "  </style>\n",
              "\n",
              "      <script>\n",
              "        const buttonEl =\n",
              "          document.querySelector('#df-11385e9f-8e36-4a0b-bd29-8165cf21cedf button.colab-df-convert');\n",
              "        buttonEl.style.display =\n",
              "          google.colab.kernel.accessAllowed ? 'block' : 'none';\n",
              "\n",
              "        async function convertToInteractive(key) {\n",
              "          const element = document.querySelector('#df-11385e9f-8e36-4a0b-bd29-8165cf21cedf');\n",
              "          const dataTable =\n",
              "            await google.colab.kernel.invokeFunction('convertToInteractive',\n",
              "                                                     [key], {});\n",
              "          if (!dataTable) return;\n",
              "\n",
              "          const docLinkHtml = 'Like what you see? Visit the ' +\n",
              "            '<a target=\"_blank\" href=https://colab.research.google.com/notebooks/data_table.ipynb>data table notebook</a>'\n",
              "            + ' to learn more about interactive tables.';\n",
              "          element.innerHTML = '';\n",
              "          dataTable['output_type'] = 'display_data';\n",
              "          await google.colab.output.renderOutput(dataTable, element);\n",
              "          const docLink = document.createElement('div');\n",
              "          docLink.innerHTML = docLinkHtml;\n",
              "          element.appendChild(docLink);\n",
              "        }\n",
              "      </script>\n",
              "    </div>\n",
              "  </div>\n",
              "  "
            ],
            "text/plain": [
              "      age     sex     bmi  children smoker     region      charges\n",
              "0      19  female  27.900         0    yes  southwest  16884.92400\n",
              "1      18    male  33.770         1     no  southeast   1725.55230\n",
              "2      28    male  33.000         3     no  southeast   4449.46200\n",
              "3      33    male  22.705         0     no  northwest  21984.47061\n",
              "4      32    male  28.880         0     no  northwest   3866.85520\n",
              "...   ...     ...     ...       ...    ...        ...          ...\n",
              "1333   50    male  30.970         3     no  northwest  10600.54830\n",
              "1334   18  female  31.920         0     no  northeast   2205.98080\n",
              "1335   18  female  36.850         0     no  southeast   1629.83350\n",
              "1336   21  female  25.800         0     no  southwest   2007.94500\n",
              "1337   61  female  29.070         0    yes  northwest  29141.36030\n",
              "\n",
              "[1338 rows x 7 columns]"
            ]
          },
          "metadata": {},
          "execution_count": 5
        }
      ]
    },
    {
      "cell_type": "markdown",
      "metadata": {
        "id": "Nd8uonrznXUv"
      },
      "source": [
        "\n",
        "Now splitting the data into independent & dependent variable is necessary.Independent are those that we are going to used for prediction or are the features. Dependent are those that we have to predict."
      ]
    },
    {
      "cell_type": "code",
      "metadata": {
        "id": "WPN4T12Ehhlg"
      },
      "source": [
        "feature = dataset[['age','sex','children','bmi','smoker','region']]  # for independent\n",
        "target = dataset[['charges']]   # for dependent"
      ],
      "execution_count": null,
      "outputs": []
    },
    {
      "cell_type": "code",
      "metadata": {
        "colab": {
          "base_uri": "https://localhost:8080/",
          "height": 423
        },
        "id": "Em75ZYLPiEtt",
        "outputId": "de11b270-7a08-4e51-e3a5-5c895e1c3dba"
      },
      "source": [
        "feature"
      ],
      "execution_count": null,
      "outputs": [
        {
          "output_type": "execute_result",
          "data": {
            "text/html": [
              "\n",
              "  <div id=\"df-283bd35a-ab95-4583-8199-c31878e865af\">\n",
              "    <div class=\"colab-df-container\">\n",
              "      <div>\n",
              "<style scoped>\n",
              "    .dataframe tbody tr th:only-of-type {\n",
              "        vertical-align: middle;\n",
              "    }\n",
              "\n",
              "    .dataframe tbody tr th {\n",
              "        vertical-align: top;\n",
              "    }\n",
              "\n",
              "    .dataframe thead th {\n",
              "        text-align: right;\n",
              "    }\n",
              "</style>\n",
              "<table border=\"1\" class=\"dataframe\">\n",
              "  <thead>\n",
              "    <tr style=\"text-align: right;\">\n",
              "      <th></th>\n",
              "      <th>age</th>\n",
              "      <th>sex</th>\n",
              "      <th>children</th>\n",
              "      <th>bmi</th>\n",
              "      <th>smoker</th>\n",
              "      <th>region</th>\n",
              "    </tr>\n",
              "  </thead>\n",
              "  <tbody>\n",
              "    <tr>\n",
              "      <th>0</th>\n",
              "      <td>19</td>\n",
              "      <td>female</td>\n",
              "      <td>0</td>\n",
              "      <td>27.900</td>\n",
              "      <td>yes</td>\n",
              "      <td>southwest</td>\n",
              "    </tr>\n",
              "    <tr>\n",
              "      <th>1</th>\n",
              "      <td>18</td>\n",
              "      <td>male</td>\n",
              "      <td>1</td>\n",
              "      <td>33.770</td>\n",
              "      <td>no</td>\n",
              "      <td>southeast</td>\n",
              "    </tr>\n",
              "    <tr>\n",
              "      <th>2</th>\n",
              "      <td>28</td>\n",
              "      <td>male</td>\n",
              "      <td>3</td>\n",
              "      <td>33.000</td>\n",
              "      <td>no</td>\n",
              "      <td>southeast</td>\n",
              "    </tr>\n",
              "    <tr>\n",
              "      <th>3</th>\n",
              "      <td>33</td>\n",
              "      <td>male</td>\n",
              "      <td>0</td>\n",
              "      <td>22.705</td>\n",
              "      <td>no</td>\n",
              "      <td>northwest</td>\n",
              "    </tr>\n",
              "    <tr>\n",
              "      <th>4</th>\n",
              "      <td>32</td>\n",
              "      <td>male</td>\n",
              "      <td>0</td>\n",
              "      <td>28.880</td>\n",
              "      <td>no</td>\n",
              "      <td>northwest</td>\n",
              "    </tr>\n",
              "    <tr>\n",
              "      <th>...</th>\n",
              "      <td>...</td>\n",
              "      <td>...</td>\n",
              "      <td>...</td>\n",
              "      <td>...</td>\n",
              "      <td>...</td>\n",
              "      <td>...</td>\n",
              "    </tr>\n",
              "    <tr>\n",
              "      <th>1333</th>\n",
              "      <td>50</td>\n",
              "      <td>male</td>\n",
              "      <td>3</td>\n",
              "      <td>30.970</td>\n",
              "      <td>no</td>\n",
              "      <td>northwest</td>\n",
              "    </tr>\n",
              "    <tr>\n",
              "      <th>1334</th>\n",
              "      <td>18</td>\n",
              "      <td>female</td>\n",
              "      <td>0</td>\n",
              "      <td>31.920</td>\n",
              "      <td>no</td>\n",
              "      <td>northeast</td>\n",
              "    </tr>\n",
              "    <tr>\n",
              "      <th>1335</th>\n",
              "      <td>18</td>\n",
              "      <td>female</td>\n",
              "      <td>0</td>\n",
              "      <td>36.850</td>\n",
              "      <td>no</td>\n",
              "      <td>southeast</td>\n",
              "    </tr>\n",
              "    <tr>\n",
              "      <th>1336</th>\n",
              "      <td>21</td>\n",
              "      <td>female</td>\n",
              "      <td>0</td>\n",
              "      <td>25.800</td>\n",
              "      <td>no</td>\n",
              "      <td>southwest</td>\n",
              "    </tr>\n",
              "    <tr>\n",
              "      <th>1337</th>\n",
              "      <td>61</td>\n",
              "      <td>female</td>\n",
              "      <td>0</td>\n",
              "      <td>29.070</td>\n",
              "      <td>yes</td>\n",
              "      <td>northwest</td>\n",
              "    </tr>\n",
              "  </tbody>\n",
              "</table>\n",
              "<p>1338 rows × 6 columns</p>\n",
              "</div>\n",
              "      <button class=\"colab-df-convert\" onclick=\"convertToInteractive('df-283bd35a-ab95-4583-8199-c31878e865af')\"\n",
              "              title=\"Convert this dataframe to an interactive table.\"\n",
              "              style=\"display:none;\">\n",
              "        \n",
              "  <svg xmlns=\"http://www.w3.org/2000/svg\" height=\"24px\"viewBox=\"0 0 24 24\"\n",
              "       width=\"24px\">\n",
              "    <path d=\"M0 0h24v24H0V0z\" fill=\"none\"/>\n",
              "    <path d=\"M18.56 5.44l.94 2.06.94-2.06 2.06-.94-2.06-.94-.94-2.06-.94 2.06-2.06.94zm-11 1L8.5 8.5l.94-2.06 2.06-.94-2.06-.94L8.5 2.5l-.94 2.06-2.06.94zm10 10l.94 2.06.94-2.06 2.06-.94-2.06-.94-.94-2.06-.94 2.06-2.06.94z\"/><path d=\"M17.41 7.96l-1.37-1.37c-.4-.4-.92-.59-1.43-.59-.52 0-1.04.2-1.43.59L10.3 9.45l-7.72 7.72c-.78.78-.78 2.05 0 2.83L4 21.41c.39.39.9.59 1.41.59.51 0 1.02-.2 1.41-.59l7.78-7.78 2.81-2.81c.8-.78.8-2.07 0-2.86zM5.41 20L4 18.59l7.72-7.72 1.47 1.35L5.41 20z\"/>\n",
              "  </svg>\n",
              "      </button>\n",
              "      \n",
              "  <style>\n",
              "    .colab-df-container {\n",
              "      display:flex;\n",
              "      flex-wrap:wrap;\n",
              "      gap: 12px;\n",
              "    }\n",
              "\n",
              "    .colab-df-convert {\n",
              "      background-color: #E8F0FE;\n",
              "      border: none;\n",
              "      border-radius: 50%;\n",
              "      cursor: pointer;\n",
              "      display: none;\n",
              "      fill: #1967D2;\n",
              "      height: 32px;\n",
              "      padding: 0 0 0 0;\n",
              "      width: 32px;\n",
              "    }\n",
              "\n",
              "    .colab-df-convert:hover {\n",
              "      background-color: #E2EBFA;\n",
              "      box-shadow: 0px 1px 2px rgba(60, 64, 67, 0.3), 0px 1px 3px 1px rgba(60, 64, 67, 0.15);\n",
              "      fill: #174EA6;\n",
              "    }\n",
              "\n",
              "    [theme=dark] .colab-df-convert {\n",
              "      background-color: #3B4455;\n",
              "      fill: #D2E3FC;\n",
              "    }\n",
              "\n",
              "    [theme=dark] .colab-df-convert:hover {\n",
              "      background-color: #434B5C;\n",
              "      box-shadow: 0px 1px 3px 1px rgba(0, 0, 0, 0.15);\n",
              "      filter: drop-shadow(0px 1px 2px rgba(0, 0, 0, 0.3));\n",
              "      fill: #FFFFFF;\n",
              "    }\n",
              "  </style>\n",
              "\n",
              "      <script>\n",
              "        const buttonEl =\n",
              "          document.querySelector('#df-283bd35a-ab95-4583-8199-c31878e865af button.colab-df-convert');\n",
              "        buttonEl.style.display =\n",
              "          google.colab.kernel.accessAllowed ? 'block' : 'none';\n",
              "\n",
              "        async function convertToInteractive(key) {\n",
              "          const element = document.querySelector('#df-283bd35a-ab95-4583-8199-c31878e865af');\n",
              "          const dataTable =\n",
              "            await google.colab.kernel.invokeFunction('convertToInteractive',\n",
              "                                                     [key], {});\n",
              "          if (!dataTable) return;\n",
              "\n",
              "          const docLinkHtml = 'Like what you see? Visit the ' +\n",
              "            '<a target=\"_blank\" href=https://colab.research.google.com/notebooks/data_table.ipynb>data table notebook</a>'\n",
              "            + ' to learn more about interactive tables.';\n",
              "          element.innerHTML = '';\n",
              "          dataTable['output_type'] = 'display_data';\n",
              "          await google.colab.output.renderOutput(dataTable, element);\n",
              "          const docLink = document.createElement('div');\n",
              "          docLink.innerHTML = docLinkHtml;\n",
              "          element.appendChild(docLink);\n",
              "        }\n",
              "      </script>\n",
              "    </div>\n",
              "  </div>\n",
              "  "
            ],
            "text/plain": [
              "      age     sex  children     bmi smoker     region\n",
              "0      19  female         0  27.900    yes  southwest\n",
              "1      18    male         1  33.770     no  southeast\n",
              "2      28    male         3  33.000     no  southeast\n",
              "3      33    male         0  22.705     no  northwest\n",
              "4      32    male         0  28.880     no  northwest\n",
              "...   ...     ...       ...     ...    ...        ...\n",
              "1333   50    male         3  30.970     no  northwest\n",
              "1334   18  female         0  31.920     no  northeast\n",
              "1335   18  female         0  36.850     no  southeast\n",
              "1336   21  female         0  25.800     no  southwest\n",
              "1337   61  female         0  29.070    yes  northwest\n",
              "\n",
              "[1338 rows x 6 columns]"
            ]
          },
          "metadata": {},
          "execution_count": 7
        }
      ]
    },
    {
      "cell_type": "code",
      "metadata": {
        "colab": {
          "base_uri": "https://localhost:8080/",
          "height": 423
        },
        "id": "aV5KLPoUiXa4",
        "outputId": "d90db9e3-3841-41cd-d706-44391952f7a2"
      },
      "source": [
        "target"
      ],
      "execution_count": null,
      "outputs": [
        {
          "output_type": "execute_result",
          "data": {
            "text/html": [
              "\n",
              "  <div id=\"df-fa7f5c67-17f1-480a-8ca5-76431d30c0bb\">\n",
              "    <div class=\"colab-df-container\">\n",
              "      <div>\n",
              "<style scoped>\n",
              "    .dataframe tbody tr th:only-of-type {\n",
              "        vertical-align: middle;\n",
              "    }\n",
              "\n",
              "    .dataframe tbody tr th {\n",
              "        vertical-align: top;\n",
              "    }\n",
              "\n",
              "    .dataframe thead th {\n",
              "        text-align: right;\n",
              "    }\n",
              "</style>\n",
              "<table border=\"1\" class=\"dataframe\">\n",
              "  <thead>\n",
              "    <tr style=\"text-align: right;\">\n",
              "      <th></th>\n",
              "      <th>charges</th>\n",
              "    </tr>\n",
              "  </thead>\n",
              "  <tbody>\n",
              "    <tr>\n",
              "      <th>0</th>\n",
              "      <td>16884.92400</td>\n",
              "    </tr>\n",
              "    <tr>\n",
              "      <th>1</th>\n",
              "      <td>1725.55230</td>\n",
              "    </tr>\n",
              "    <tr>\n",
              "      <th>2</th>\n",
              "      <td>4449.46200</td>\n",
              "    </tr>\n",
              "    <tr>\n",
              "      <th>3</th>\n",
              "      <td>21984.47061</td>\n",
              "    </tr>\n",
              "    <tr>\n",
              "      <th>4</th>\n",
              "      <td>3866.85520</td>\n",
              "    </tr>\n",
              "    <tr>\n",
              "      <th>...</th>\n",
              "      <td>...</td>\n",
              "    </tr>\n",
              "    <tr>\n",
              "      <th>1333</th>\n",
              "      <td>10600.54830</td>\n",
              "    </tr>\n",
              "    <tr>\n",
              "      <th>1334</th>\n",
              "      <td>2205.98080</td>\n",
              "    </tr>\n",
              "    <tr>\n",
              "      <th>1335</th>\n",
              "      <td>1629.83350</td>\n",
              "    </tr>\n",
              "    <tr>\n",
              "      <th>1336</th>\n",
              "      <td>2007.94500</td>\n",
              "    </tr>\n",
              "    <tr>\n",
              "      <th>1337</th>\n",
              "      <td>29141.36030</td>\n",
              "    </tr>\n",
              "  </tbody>\n",
              "</table>\n",
              "<p>1338 rows × 1 columns</p>\n",
              "</div>\n",
              "      <button class=\"colab-df-convert\" onclick=\"convertToInteractive('df-fa7f5c67-17f1-480a-8ca5-76431d30c0bb')\"\n",
              "              title=\"Convert this dataframe to an interactive table.\"\n",
              "              style=\"display:none;\">\n",
              "        \n",
              "  <svg xmlns=\"http://www.w3.org/2000/svg\" height=\"24px\"viewBox=\"0 0 24 24\"\n",
              "       width=\"24px\">\n",
              "    <path d=\"M0 0h24v24H0V0z\" fill=\"none\"/>\n",
              "    <path d=\"M18.56 5.44l.94 2.06.94-2.06 2.06-.94-2.06-.94-.94-2.06-.94 2.06-2.06.94zm-11 1L8.5 8.5l.94-2.06 2.06-.94-2.06-.94L8.5 2.5l-.94 2.06-2.06.94zm10 10l.94 2.06.94-2.06 2.06-.94-2.06-.94-.94-2.06-.94 2.06-2.06.94z\"/><path d=\"M17.41 7.96l-1.37-1.37c-.4-.4-.92-.59-1.43-.59-.52 0-1.04.2-1.43.59L10.3 9.45l-7.72 7.72c-.78.78-.78 2.05 0 2.83L4 21.41c.39.39.9.59 1.41.59.51 0 1.02-.2 1.41-.59l7.78-7.78 2.81-2.81c.8-.78.8-2.07 0-2.86zM5.41 20L4 18.59l7.72-7.72 1.47 1.35L5.41 20z\"/>\n",
              "  </svg>\n",
              "      </button>\n",
              "      \n",
              "  <style>\n",
              "    .colab-df-container {\n",
              "      display:flex;\n",
              "      flex-wrap:wrap;\n",
              "      gap: 12px;\n",
              "    }\n",
              "\n",
              "    .colab-df-convert {\n",
              "      background-color: #E8F0FE;\n",
              "      border: none;\n",
              "      border-radius: 50%;\n",
              "      cursor: pointer;\n",
              "      display: none;\n",
              "      fill: #1967D2;\n",
              "      height: 32px;\n",
              "      padding: 0 0 0 0;\n",
              "      width: 32px;\n",
              "    }\n",
              "\n",
              "    .colab-df-convert:hover {\n",
              "      background-color: #E2EBFA;\n",
              "      box-shadow: 0px 1px 2px rgba(60, 64, 67, 0.3), 0px 1px 3px 1px rgba(60, 64, 67, 0.15);\n",
              "      fill: #174EA6;\n",
              "    }\n",
              "\n",
              "    [theme=dark] .colab-df-convert {\n",
              "      background-color: #3B4455;\n",
              "      fill: #D2E3FC;\n",
              "    }\n",
              "\n",
              "    [theme=dark] .colab-df-convert:hover {\n",
              "      background-color: #434B5C;\n",
              "      box-shadow: 0px 1px 3px 1px rgba(0, 0, 0, 0.15);\n",
              "      filter: drop-shadow(0px 1px 2px rgba(0, 0, 0, 0.3));\n",
              "      fill: #FFFFFF;\n",
              "    }\n",
              "  </style>\n",
              "\n",
              "      <script>\n",
              "        const buttonEl =\n",
              "          document.querySelector('#df-fa7f5c67-17f1-480a-8ca5-76431d30c0bb button.colab-df-convert');\n",
              "        buttonEl.style.display =\n",
              "          google.colab.kernel.accessAllowed ? 'block' : 'none';\n",
              "\n",
              "        async function convertToInteractive(key) {\n",
              "          const element = document.querySelector('#df-fa7f5c67-17f1-480a-8ca5-76431d30c0bb');\n",
              "          const dataTable =\n",
              "            await google.colab.kernel.invokeFunction('convertToInteractive',\n",
              "                                                     [key], {});\n",
              "          if (!dataTable) return;\n",
              "\n",
              "          const docLinkHtml = 'Like what you see? Visit the ' +\n",
              "            '<a target=\"_blank\" href=https://colab.research.google.com/notebooks/data_table.ipynb>data table notebook</a>'\n",
              "            + ' to learn more about interactive tables.';\n",
              "          element.innerHTML = '';\n",
              "          dataTable['output_type'] = 'display_data';\n",
              "          await google.colab.output.renderOutput(dataTable, element);\n",
              "          const docLink = document.createElement('div');\n",
              "          docLink.innerHTML = docLinkHtml;\n",
              "          element.appendChild(docLink);\n",
              "        }\n",
              "      </script>\n",
              "    </div>\n",
              "  </div>\n",
              "  "
            ],
            "text/plain": [
              "          charges\n",
              "0     16884.92400\n",
              "1      1725.55230\n",
              "2      4449.46200\n",
              "3     21984.47061\n",
              "4      3866.85520\n",
              "...           ...\n",
              "1333  10600.54830\n",
              "1334   2205.98080\n",
              "1335   1629.83350\n",
              "1336   2007.94500\n",
              "1337  29141.36030\n",
              "\n",
              "[1338 rows x 1 columns]"
            ]
          },
          "metadata": {},
          "execution_count": 8
        }
      ]
    },
    {
      "cell_type": "code",
      "source": [
        "dataset.isnull().value_counts()"
      ],
      "metadata": {
        "colab": {
          "base_uri": "https://localhost:8080/"
        },
        "id": "SQxL1Wb4Ma6U",
        "outputId": "0c5e4bae-8ef2-4159-8711-ee2caa44a30a"
      },
      "execution_count": null,
      "outputs": [
        {
          "output_type": "execute_result",
          "data": {
            "text/plain": [
              "age    sex    bmi    children  smoker  region  charges\n",
              "False  False  False  False     False   False   False      1338\n",
              "dtype: int64"
            ]
          },
          "metadata": {},
          "execution_count": 9
        }
      ]
    },
    {
      "cell_type": "markdown",
      "source": [
        "There is no missing data or NAN value in this dataset."
      ],
      "metadata": {
        "id": "-ndrHbn0MmlN"
      }
    },
    {
      "cell_type": "markdown",
      "metadata": {
        "id": "GGwoFpyWAt-S"
      },
      "source": [
        "#Encoding Categorial data\n",
        "Categorical variables are usually represented as ‘strings’ or ‘categories’ and are finite in number. Machine learning models require all input and output variables to be numeric. This means that if your data contains categorical data, you must encode it to numbers before you can fit and evaluate a model."
      ]
    },
    {
      "cell_type": "markdown",
      "metadata": {
        "id": "-mTJO8LxaFYC"
      },
      "source": [
        "### One Hot Encoding:\n",
        "One hot encoding is a process of converting categorical data variables so they can be provided to machine learning algorithms to improve predictions. With one-hot, we convert each categorical value into a new categorical column and assign a binary value of 1 or 0 to those columns."
      ]
    },
    {
      "cell_type": "code",
      "metadata": {
        "id": "ReDd_qIQilBG"
      },
      "source": [
        "from sklearn.preprocessing import LabelEncoder,OneHotEncoder"
      ],
      "execution_count": null,
      "outputs": []
    },
    {
      "cell_type": "code",
      "metadata": {
        "id": "yMVzjNPPjHc6"
      },
      "source": [
        "encoder=OneHotEncoder(sparse=False)\n",
        "encoded_labels = pd.DataFrame (encoder.fit_transform(feature[['smoker','sex','region']]))"
      ],
      "execution_count": null,
      "outputs": []
    },
    {
      "cell_type": "code",
      "metadata": {
        "id": "7yhEAP_okasX"
      },
      "source": [
        "encoded_labels.columns = encoder.get_feature_names(['smoker','sex','region'])\n",
        "dataset= pd.concat([feature, encoded_labels ], axis=1)"
      ],
      "execution_count": null,
      "outputs": []
    },
    {
      "cell_type": "code",
      "metadata": {
        "colab": {
          "base_uri": "https://localhost:8080/",
          "height": 487
        },
        "id": "SJk9In6zlNyN",
        "outputId": "87ad0eb4-16e6-4034-a982-d44f9b2fa218"
      },
      "source": [
        "dataset"
      ],
      "execution_count": null,
      "outputs": [
        {
          "output_type": "execute_result",
          "data": {
            "text/html": [
              "\n",
              "  <div id=\"df-ac0f677e-ed8e-497c-8703-ef3e263c3134\">\n",
              "    <div class=\"colab-df-container\">\n",
              "      <div>\n",
              "<style scoped>\n",
              "    .dataframe tbody tr th:only-of-type {\n",
              "        vertical-align: middle;\n",
              "    }\n",
              "\n",
              "    .dataframe tbody tr th {\n",
              "        vertical-align: top;\n",
              "    }\n",
              "\n",
              "    .dataframe thead th {\n",
              "        text-align: right;\n",
              "    }\n",
              "</style>\n",
              "<table border=\"1\" class=\"dataframe\">\n",
              "  <thead>\n",
              "    <tr style=\"text-align: right;\">\n",
              "      <th></th>\n",
              "      <th>age</th>\n",
              "      <th>sex</th>\n",
              "      <th>children</th>\n",
              "      <th>bmi</th>\n",
              "      <th>smoker</th>\n",
              "      <th>region</th>\n",
              "      <th>smoker_no</th>\n",
              "      <th>smoker_yes</th>\n",
              "      <th>sex_female</th>\n",
              "      <th>sex_male</th>\n",
              "      <th>region_northeast</th>\n",
              "      <th>region_northwest</th>\n",
              "      <th>region_southeast</th>\n",
              "      <th>region_southwest</th>\n",
              "    </tr>\n",
              "  </thead>\n",
              "  <tbody>\n",
              "    <tr>\n",
              "      <th>0</th>\n",
              "      <td>19</td>\n",
              "      <td>female</td>\n",
              "      <td>0</td>\n",
              "      <td>27.900</td>\n",
              "      <td>yes</td>\n",
              "      <td>southwest</td>\n",
              "      <td>0.0</td>\n",
              "      <td>1.0</td>\n",
              "      <td>1.0</td>\n",
              "      <td>0.0</td>\n",
              "      <td>0.0</td>\n",
              "      <td>0.0</td>\n",
              "      <td>0.0</td>\n",
              "      <td>1.0</td>\n",
              "    </tr>\n",
              "    <tr>\n",
              "      <th>1</th>\n",
              "      <td>18</td>\n",
              "      <td>male</td>\n",
              "      <td>1</td>\n",
              "      <td>33.770</td>\n",
              "      <td>no</td>\n",
              "      <td>southeast</td>\n",
              "      <td>1.0</td>\n",
              "      <td>0.0</td>\n",
              "      <td>0.0</td>\n",
              "      <td>1.0</td>\n",
              "      <td>0.0</td>\n",
              "      <td>0.0</td>\n",
              "      <td>1.0</td>\n",
              "      <td>0.0</td>\n",
              "    </tr>\n",
              "    <tr>\n",
              "      <th>2</th>\n",
              "      <td>28</td>\n",
              "      <td>male</td>\n",
              "      <td>3</td>\n",
              "      <td>33.000</td>\n",
              "      <td>no</td>\n",
              "      <td>southeast</td>\n",
              "      <td>1.0</td>\n",
              "      <td>0.0</td>\n",
              "      <td>0.0</td>\n",
              "      <td>1.0</td>\n",
              "      <td>0.0</td>\n",
              "      <td>0.0</td>\n",
              "      <td>1.0</td>\n",
              "      <td>0.0</td>\n",
              "    </tr>\n",
              "    <tr>\n",
              "      <th>3</th>\n",
              "      <td>33</td>\n",
              "      <td>male</td>\n",
              "      <td>0</td>\n",
              "      <td>22.705</td>\n",
              "      <td>no</td>\n",
              "      <td>northwest</td>\n",
              "      <td>1.0</td>\n",
              "      <td>0.0</td>\n",
              "      <td>0.0</td>\n",
              "      <td>1.0</td>\n",
              "      <td>0.0</td>\n",
              "      <td>1.0</td>\n",
              "      <td>0.0</td>\n",
              "      <td>0.0</td>\n",
              "    </tr>\n",
              "    <tr>\n",
              "      <th>4</th>\n",
              "      <td>32</td>\n",
              "      <td>male</td>\n",
              "      <td>0</td>\n",
              "      <td>28.880</td>\n",
              "      <td>no</td>\n",
              "      <td>northwest</td>\n",
              "      <td>1.0</td>\n",
              "      <td>0.0</td>\n",
              "      <td>0.0</td>\n",
              "      <td>1.0</td>\n",
              "      <td>0.0</td>\n",
              "      <td>1.0</td>\n",
              "      <td>0.0</td>\n",
              "      <td>0.0</td>\n",
              "    </tr>\n",
              "    <tr>\n",
              "      <th>...</th>\n",
              "      <td>...</td>\n",
              "      <td>...</td>\n",
              "      <td>...</td>\n",
              "      <td>...</td>\n",
              "      <td>...</td>\n",
              "      <td>...</td>\n",
              "      <td>...</td>\n",
              "      <td>...</td>\n",
              "      <td>...</td>\n",
              "      <td>...</td>\n",
              "      <td>...</td>\n",
              "      <td>...</td>\n",
              "      <td>...</td>\n",
              "      <td>...</td>\n",
              "    </tr>\n",
              "    <tr>\n",
              "      <th>1333</th>\n",
              "      <td>50</td>\n",
              "      <td>male</td>\n",
              "      <td>3</td>\n",
              "      <td>30.970</td>\n",
              "      <td>no</td>\n",
              "      <td>northwest</td>\n",
              "      <td>1.0</td>\n",
              "      <td>0.0</td>\n",
              "      <td>0.0</td>\n",
              "      <td>1.0</td>\n",
              "      <td>0.0</td>\n",
              "      <td>1.0</td>\n",
              "      <td>0.0</td>\n",
              "      <td>0.0</td>\n",
              "    </tr>\n",
              "    <tr>\n",
              "      <th>1334</th>\n",
              "      <td>18</td>\n",
              "      <td>female</td>\n",
              "      <td>0</td>\n",
              "      <td>31.920</td>\n",
              "      <td>no</td>\n",
              "      <td>northeast</td>\n",
              "      <td>1.0</td>\n",
              "      <td>0.0</td>\n",
              "      <td>1.0</td>\n",
              "      <td>0.0</td>\n",
              "      <td>1.0</td>\n",
              "      <td>0.0</td>\n",
              "      <td>0.0</td>\n",
              "      <td>0.0</td>\n",
              "    </tr>\n",
              "    <tr>\n",
              "      <th>1335</th>\n",
              "      <td>18</td>\n",
              "      <td>female</td>\n",
              "      <td>0</td>\n",
              "      <td>36.850</td>\n",
              "      <td>no</td>\n",
              "      <td>southeast</td>\n",
              "      <td>1.0</td>\n",
              "      <td>0.0</td>\n",
              "      <td>1.0</td>\n",
              "      <td>0.0</td>\n",
              "      <td>0.0</td>\n",
              "      <td>0.0</td>\n",
              "      <td>1.0</td>\n",
              "      <td>0.0</td>\n",
              "    </tr>\n",
              "    <tr>\n",
              "      <th>1336</th>\n",
              "      <td>21</td>\n",
              "      <td>female</td>\n",
              "      <td>0</td>\n",
              "      <td>25.800</td>\n",
              "      <td>no</td>\n",
              "      <td>southwest</td>\n",
              "      <td>1.0</td>\n",
              "      <td>0.0</td>\n",
              "      <td>1.0</td>\n",
              "      <td>0.0</td>\n",
              "      <td>0.0</td>\n",
              "      <td>0.0</td>\n",
              "      <td>0.0</td>\n",
              "      <td>1.0</td>\n",
              "    </tr>\n",
              "    <tr>\n",
              "      <th>1337</th>\n",
              "      <td>61</td>\n",
              "      <td>female</td>\n",
              "      <td>0</td>\n",
              "      <td>29.070</td>\n",
              "      <td>yes</td>\n",
              "      <td>northwest</td>\n",
              "      <td>0.0</td>\n",
              "      <td>1.0</td>\n",
              "      <td>1.0</td>\n",
              "      <td>0.0</td>\n",
              "      <td>0.0</td>\n",
              "      <td>1.0</td>\n",
              "      <td>0.0</td>\n",
              "      <td>0.0</td>\n",
              "    </tr>\n",
              "  </tbody>\n",
              "</table>\n",
              "<p>1338 rows × 14 columns</p>\n",
              "</div>\n",
              "      <button class=\"colab-df-convert\" onclick=\"convertToInteractive('df-ac0f677e-ed8e-497c-8703-ef3e263c3134')\"\n",
              "              title=\"Convert this dataframe to an interactive table.\"\n",
              "              style=\"display:none;\">\n",
              "        \n",
              "  <svg xmlns=\"http://www.w3.org/2000/svg\" height=\"24px\"viewBox=\"0 0 24 24\"\n",
              "       width=\"24px\">\n",
              "    <path d=\"M0 0h24v24H0V0z\" fill=\"none\"/>\n",
              "    <path d=\"M18.56 5.44l.94 2.06.94-2.06 2.06-.94-2.06-.94-.94-2.06-.94 2.06-2.06.94zm-11 1L8.5 8.5l.94-2.06 2.06-.94-2.06-.94L8.5 2.5l-.94 2.06-2.06.94zm10 10l.94 2.06.94-2.06 2.06-.94-2.06-.94-.94-2.06-.94 2.06-2.06.94z\"/><path d=\"M17.41 7.96l-1.37-1.37c-.4-.4-.92-.59-1.43-.59-.52 0-1.04.2-1.43.59L10.3 9.45l-7.72 7.72c-.78.78-.78 2.05 0 2.83L4 21.41c.39.39.9.59 1.41.59.51 0 1.02-.2 1.41-.59l7.78-7.78 2.81-2.81c.8-.78.8-2.07 0-2.86zM5.41 20L4 18.59l7.72-7.72 1.47 1.35L5.41 20z\"/>\n",
              "  </svg>\n",
              "      </button>\n",
              "      \n",
              "  <style>\n",
              "    .colab-df-container {\n",
              "      display:flex;\n",
              "      flex-wrap:wrap;\n",
              "      gap: 12px;\n",
              "    }\n",
              "\n",
              "    .colab-df-convert {\n",
              "      background-color: #E8F0FE;\n",
              "      border: none;\n",
              "      border-radius: 50%;\n",
              "      cursor: pointer;\n",
              "      display: none;\n",
              "      fill: #1967D2;\n",
              "      height: 32px;\n",
              "      padding: 0 0 0 0;\n",
              "      width: 32px;\n",
              "    }\n",
              "\n",
              "    .colab-df-convert:hover {\n",
              "      background-color: #E2EBFA;\n",
              "      box-shadow: 0px 1px 2px rgba(60, 64, 67, 0.3), 0px 1px 3px 1px rgba(60, 64, 67, 0.15);\n",
              "      fill: #174EA6;\n",
              "    }\n",
              "\n",
              "    [theme=dark] .colab-df-convert {\n",
              "      background-color: #3B4455;\n",
              "      fill: #D2E3FC;\n",
              "    }\n",
              "\n",
              "    [theme=dark] .colab-df-convert:hover {\n",
              "      background-color: #434B5C;\n",
              "      box-shadow: 0px 1px 3px 1px rgba(0, 0, 0, 0.15);\n",
              "      filter: drop-shadow(0px 1px 2px rgba(0, 0, 0, 0.3));\n",
              "      fill: #FFFFFF;\n",
              "    }\n",
              "  </style>\n",
              "\n",
              "      <script>\n",
              "        const buttonEl =\n",
              "          document.querySelector('#df-ac0f677e-ed8e-497c-8703-ef3e263c3134 button.colab-df-convert');\n",
              "        buttonEl.style.display =\n",
              "          google.colab.kernel.accessAllowed ? 'block' : 'none';\n",
              "\n",
              "        async function convertToInteractive(key) {\n",
              "          const element = document.querySelector('#df-ac0f677e-ed8e-497c-8703-ef3e263c3134');\n",
              "          const dataTable =\n",
              "            await google.colab.kernel.invokeFunction('convertToInteractive',\n",
              "                                                     [key], {});\n",
              "          if (!dataTable) return;\n",
              "\n",
              "          const docLinkHtml = 'Like what you see? Visit the ' +\n",
              "            '<a target=\"_blank\" href=https://colab.research.google.com/notebooks/data_table.ipynb>data table notebook</a>'\n",
              "            + ' to learn more about interactive tables.';\n",
              "          element.innerHTML = '';\n",
              "          dataTable['output_type'] = 'display_data';\n",
              "          await google.colab.output.renderOutput(dataTable, element);\n",
              "          const docLink = document.createElement('div');\n",
              "          docLink.innerHTML = docLinkHtml;\n",
              "          element.appendChild(docLink);\n",
              "        }\n",
              "      </script>\n",
              "    </div>\n",
              "  </div>\n",
              "  "
            ],
            "text/plain": [
              "      age     sex  ...  region_southeast  region_southwest\n",
              "0      19  female  ...               0.0               1.0\n",
              "1      18    male  ...               1.0               0.0\n",
              "2      28    male  ...               1.0               0.0\n",
              "3      33    male  ...               0.0               0.0\n",
              "4      32    male  ...               0.0               0.0\n",
              "...   ...     ...  ...               ...               ...\n",
              "1333   50    male  ...               0.0               0.0\n",
              "1334   18  female  ...               0.0               0.0\n",
              "1335   18  female  ...               1.0               0.0\n",
              "1336   21  female  ...               0.0               1.0\n",
              "1337   61  female  ...               0.0               0.0\n",
              "\n",
              "[1338 rows x 14 columns]"
            ]
          },
          "metadata": {},
          "execution_count": 13
        }
      ]
    },
    {
      "cell_type": "code",
      "metadata": {
        "colab": {
          "base_uri": "https://localhost:8080/"
        },
        "id": "wJey-OxxlcNC",
        "outputId": "aac15dba-1600-464d-c074-a2acdab39d50"
      },
      "source": [
        "dataset.columns"
      ],
      "execution_count": null,
      "outputs": [
        {
          "output_type": "execute_result",
          "data": {
            "text/plain": [
              "Index(['age', 'sex', 'children', 'bmi', 'smoker', 'region', 'smoker_no',\n",
              "       'smoker_yes', 'sex_female', 'sex_male', 'region_northeast',\n",
              "       'region_northwest', 'region_southeast', 'region_southwest'],\n",
              "      dtype='object')"
            ]
          },
          "metadata": {},
          "execution_count": 14
        }
      ]
    },
    {
      "cell_type": "code",
      "metadata": {
        "id": "icT-HK9tlkuE"
      },
      "source": [
        "new_features = dataset[['age','bmi','children','smoker_no', 'smoker_yes','sex_female', 'sex_male','region_northeast', 'region_northwest','region_southeast', 'region_southwest']]"
      ],
      "execution_count": null,
      "outputs": []
    },
    {
      "cell_type": "markdown",
      "metadata": {
        "id": "g8BKGiYD57pJ"
      },
      "source": [
        "### Splitting the Dataset:\n",
        "The train-test split is a technique for evaluating the performance of a machine learning algorithm. It can be used for classification or regression problems and can be used for any supervised learning algorithm.\n",
        "\n",
        "**Train Dataset:** Used to fit the machine learning model.\n",
        "\n",
        "**Test Dataset:** Used to evaluate the fit machine learning model.\n"
      ]
    },
    {
      "cell_type": "code",
      "metadata": {
        "id": "5gsVco4umHA1"
      },
      "source": [
        "from sklearn.model_selection import train_test_split"
      ],
      "execution_count": null,
      "outputs": []
    },
    {
      "cell_type": "code",
      "metadata": {
        "id": "yfiWH27rl3UW"
      },
      "source": [
        "\"\"\"Spliting the Dataset into Training Set and Test Set \"\"\"\n",
        "\n",
        "X_train,X_test,y_train,y_test=train_test_split(new_features,target,test_size = 0.25,random_state = 0)\n",
        "# random_state = 0 is select to get the same result"
      ],
      "execution_count": null,
      "outputs": []
    },
    {
      "cell_type": "code",
      "metadata": {
        "colab": {
          "base_uri": "https://localhost:8080/"
        },
        "id": "hGL2MaUxmWpv",
        "outputId": "71aa45a7-b058-4f24-e745-862ea7ff46b0"
      },
      "source": [
        "print(X_train.shape)\n",
        "print(X_test.shape)"
      ],
      "execution_count": null,
      "outputs": [
        {
          "output_type": "stream",
          "name": "stdout",
          "text": [
            "(1003, 11)\n",
            "(335, 11)\n"
          ]
        }
      ]
    },
    {
      "cell_type": "code",
      "metadata": {
        "colab": {
          "base_uri": "https://localhost:8080/",
          "height": 423
        },
        "id": "m39Q9Rlyma1O",
        "outputId": "011550a5-7db2-4fb7-bd21-2dc3b1bcf104"
      },
      "source": [
        "X_train"
      ],
      "execution_count": null,
      "outputs": [
        {
          "output_type": "execute_result",
          "data": {
            "text/html": [
              "\n",
              "  <div id=\"df-2a5dcf94-012f-4a39-8c0a-96f859ebeb99\">\n",
              "    <div class=\"colab-df-container\">\n",
              "      <div>\n",
              "<style scoped>\n",
              "    .dataframe tbody tr th:only-of-type {\n",
              "        vertical-align: middle;\n",
              "    }\n",
              "\n",
              "    .dataframe tbody tr th {\n",
              "        vertical-align: top;\n",
              "    }\n",
              "\n",
              "    .dataframe thead th {\n",
              "        text-align: right;\n",
              "    }\n",
              "</style>\n",
              "<table border=\"1\" class=\"dataframe\">\n",
              "  <thead>\n",
              "    <tr style=\"text-align: right;\">\n",
              "      <th></th>\n",
              "      <th>age</th>\n",
              "      <th>bmi</th>\n",
              "      <th>children</th>\n",
              "      <th>smoker_no</th>\n",
              "      <th>smoker_yes</th>\n",
              "      <th>sex_female</th>\n",
              "      <th>sex_male</th>\n",
              "      <th>region_northeast</th>\n",
              "      <th>region_northwest</th>\n",
              "      <th>region_southeast</th>\n",
              "      <th>region_southwest</th>\n",
              "    </tr>\n",
              "  </thead>\n",
              "  <tbody>\n",
              "    <tr>\n",
              "      <th>1075</th>\n",
              "      <td>32</td>\n",
              "      <td>29.59</td>\n",
              "      <td>1</td>\n",
              "      <td>1.0</td>\n",
              "      <td>0.0</td>\n",
              "      <td>1.0</td>\n",
              "      <td>0.0</td>\n",
              "      <td>0.0</td>\n",
              "      <td>0.0</td>\n",
              "      <td>1.0</td>\n",
              "      <td>0.0</td>\n",
              "    </tr>\n",
              "    <tr>\n",
              "      <th>131</th>\n",
              "      <td>61</td>\n",
              "      <td>22.04</td>\n",
              "      <td>0</td>\n",
              "      <td>1.0</td>\n",
              "      <td>0.0</td>\n",
              "      <td>1.0</td>\n",
              "      <td>0.0</td>\n",
              "      <td>1.0</td>\n",
              "      <td>0.0</td>\n",
              "      <td>0.0</td>\n",
              "      <td>0.0</td>\n",
              "    </tr>\n",
              "    <tr>\n",
              "      <th>15</th>\n",
              "      <td>19</td>\n",
              "      <td>24.60</td>\n",
              "      <td>1</td>\n",
              "      <td>1.0</td>\n",
              "      <td>0.0</td>\n",
              "      <td>0.0</td>\n",
              "      <td>1.0</td>\n",
              "      <td>0.0</td>\n",
              "      <td>0.0</td>\n",
              "      <td>0.0</td>\n",
              "      <td>1.0</td>\n",
              "    </tr>\n",
              "    <tr>\n",
              "      <th>1223</th>\n",
              "      <td>20</td>\n",
              "      <td>24.42</td>\n",
              "      <td>0</td>\n",
              "      <td>0.0</td>\n",
              "      <td>1.0</td>\n",
              "      <td>1.0</td>\n",
              "      <td>0.0</td>\n",
              "      <td>0.0</td>\n",
              "      <td>0.0</td>\n",
              "      <td>1.0</td>\n",
              "      <td>0.0</td>\n",
              "    </tr>\n",
              "    <tr>\n",
              "      <th>1137</th>\n",
              "      <td>26</td>\n",
              "      <td>22.23</td>\n",
              "      <td>0</td>\n",
              "      <td>1.0</td>\n",
              "      <td>0.0</td>\n",
              "      <td>1.0</td>\n",
              "      <td>0.0</td>\n",
              "      <td>0.0</td>\n",
              "      <td>1.0</td>\n",
              "      <td>0.0</td>\n",
              "      <td>0.0</td>\n",
              "    </tr>\n",
              "    <tr>\n",
              "      <th>...</th>\n",
              "      <td>...</td>\n",
              "      <td>...</td>\n",
              "      <td>...</td>\n",
              "      <td>...</td>\n",
              "      <td>...</td>\n",
              "      <td>...</td>\n",
              "      <td>...</td>\n",
              "      <td>...</td>\n",
              "      <td>...</td>\n",
              "      <td>...</td>\n",
              "      <td>...</td>\n",
              "    </tr>\n",
              "    <tr>\n",
              "      <th>763</th>\n",
              "      <td>27</td>\n",
              "      <td>26.03</td>\n",
              "      <td>0</td>\n",
              "      <td>1.0</td>\n",
              "      <td>0.0</td>\n",
              "      <td>0.0</td>\n",
              "      <td>1.0</td>\n",
              "      <td>1.0</td>\n",
              "      <td>0.0</td>\n",
              "      <td>0.0</td>\n",
              "      <td>0.0</td>\n",
              "    </tr>\n",
              "    <tr>\n",
              "      <th>835</th>\n",
              "      <td>42</td>\n",
              "      <td>35.97</td>\n",
              "      <td>2</td>\n",
              "      <td>1.0</td>\n",
              "      <td>0.0</td>\n",
              "      <td>0.0</td>\n",
              "      <td>1.0</td>\n",
              "      <td>0.0</td>\n",
              "      <td>0.0</td>\n",
              "      <td>1.0</td>\n",
              "      <td>0.0</td>\n",
              "    </tr>\n",
              "    <tr>\n",
              "      <th>1216</th>\n",
              "      <td>40</td>\n",
              "      <td>25.08</td>\n",
              "      <td>0</td>\n",
              "      <td>1.0</td>\n",
              "      <td>0.0</td>\n",
              "      <td>0.0</td>\n",
              "      <td>1.0</td>\n",
              "      <td>0.0</td>\n",
              "      <td>0.0</td>\n",
              "      <td>1.0</td>\n",
              "      <td>0.0</td>\n",
              "    </tr>\n",
              "    <tr>\n",
              "      <th>559</th>\n",
              "      <td>19</td>\n",
              "      <td>35.53</td>\n",
              "      <td>0</td>\n",
              "      <td>1.0</td>\n",
              "      <td>0.0</td>\n",
              "      <td>0.0</td>\n",
              "      <td>1.0</td>\n",
              "      <td>0.0</td>\n",
              "      <td>1.0</td>\n",
              "      <td>0.0</td>\n",
              "      <td>0.0</td>\n",
              "    </tr>\n",
              "    <tr>\n",
              "      <th>684</th>\n",
              "      <td>33</td>\n",
              "      <td>18.50</td>\n",
              "      <td>1</td>\n",
              "      <td>1.0</td>\n",
              "      <td>0.0</td>\n",
              "      <td>1.0</td>\n",
              "      <td>0.0</td>\n",
              "      <td>0.0</td>\n",
              "      <td>0.0</td>\n",
              "      <td>0.0</td>\n",
              "      <td>1.0</td>\n",
              "    </tr>\n",
              "  </tbody>\n",
              "</table>\n",
              "<p>1003 rows × 11 columns</p>\n",
              "</div>\n",
              "      <button class=\"colab-df-convert\" onclick=\"convertToInteractive('df-2a5dcf94-012f-4a39-8c0a-96f859ebeb99')\"\n",
              "              title=\"Convert this dataframe to an interactive table.\"\n",
              "              style=\"display:none;\">\n",
              "        \n",
              "  <svg xmlns=\"http://www.w3.org/2000/svg\" height=\"24px\"viewBox=\"0 0 24 24\"\n",
              "       width=\"24px\">\n",
              "    <path d=\"M0 0h24v24H0V0z\" fill=\"none\"/>\n",
              "    <path d=\"M18.56 5.44l.94 2.06.94-2.06 2.06-.94-2.06-.94-.94-2.06-.94 2.06-2.06.94zm-11 1L8.5 8.5l.94-2.06 2.06-.94-2.06-.94L8.5 2.5l-.94 2.06-2.06.94zm10 10l.94 2.06.94-2.06 2.06-.94-2.06-.94-.94-2.06-.94 2.06-2.06.94z\"/><path d=\"M17.41 7.96l-1.37-1.37c-.4-.4-.92-.59-1.43-.59-.52 0-1.04.2-1.43.59L10.3 9.45l-7.72 7.72c-.78.78-.78 2.05 0 2.83L4 21.41c.39.39.9.59 1.41.59.51 0 1.02-.2 1.41-.59l7.78-7.78 2.81-2.81c.8-.78.8-2.07 0-2.86zM5.41 20L4 18.59l7.72-7.72 1.47 1.35L5.41 20z\"/>\n",
              "  </svg>\n",
              "      </button>\n",
              "      \n",
              "  <style>\n",
              "    .colab-df-container {\n",
              "      display:flex;\n",
              "      flex-wrap:wrap;\n",
              "      gap: 12px;\n",
              "    }\n",
              "\n",
              "    .colab-df-convert {\n",
              "      background-color: #E8F0FE;\n",
              "      border: none;\n",
              "      border-radius: 50%;\n",
              "      cursor: pointer;\n",
              "      display: none;\n",
              "      fill: #1967D2;\n",
              "      height: 32px;\n",
              "      padding: 0 0 0 0;\n",
              "      width: 32px;\n",
              "    }\n",
              "\n",
              "    .colab-df-convert:hover {\n",
              "      background-color: #E2EBFA;\n",
              "      box-shadow: 0px 1px 2px rgba(60, 64, 67, 0.3), 0px 1px 3px 1px rgba(60, 64, 67, 0.15);\n",
              "      fill: #174EA6;\n",
              "    }\n",
              "\n",
              "    [theme=dark] .colab-df-convert {\n",
              "      background-color: #3B4455;\n",
              "      fill: #D2E3FC;\n",
              "    }\n",
              "\n",
              "    [theme=dark] .colab-df-convert:hover {\n",
              "      background-color: #434B5C;\n",
              "      box-shadow: 0px 1px 3px 1px rgba(0, 0, 0, 0.15);\n",
              "      filter: drop-shadow(0px 1px 2px rgba(0, 0, 0, 0.3));\n",
              "      fill: #FFFFFF;\n",
              "    }\n",
              "  </style>\n",
              "\n",
              "      <script>\n",
              "        const buttonEl =\n",
              "          document.querySelector('#df-2a5dcf94-012f-4a39-8c0a-96f859ebeb99 button.colab-df-convert');\n",
              "        buttonEl.style.display =\n",
              "          google.colab.kernel.accessAllowed ? 'block' : 'none';\n",
              "\n",
              "        async function convertToInteractive(key) {\n",
              "          const element = document.querySelector('#df-2a5dcf94-012f-4a39-8c0a-96f859ebeb99');\n",
              "          const dataTable =\n",
              "            await google.colab.kernel.invokeFunction('convertToInteractive',\n",
              "                                                     [key], {});\n",
              "          if (!dataTable) return;\n",
              "\n",
              "          const docLinkHtml = 'Like what you see? Visit the ' +\n",
              "            '<a target=\"_blank\" href=https://colab.research.google.com/notebooks/data_table.ipynb>data table notebook</a>'\n",
              "            + ' to learn more about interactive tables.';\n",
              "          element.innerHTML = '';\n",
              "          dataTable['output_type'] = 'display_data';\n",
              "          await google.colab.output.renderOutput(dataTable, element);\n",
              "          const docLink = document.createElement('div');\n",
              "          docLink.innerHTML = docLinkHtml;\n",
              "          element.appendChild(docLink);\n",
              "        }\n",
              "      </script>\n",
              "    </div>\n",
              "  </div>\n",
              "  "
            ],
            "text/plain": [
              "      age    bmi  ...  region_southeast  region_southwest\n",
              "1075   32  29.59  ...               1.0               0.0\n",
              "131    61  22.04  ...               0.0               0.0\n",
              "15     19  24.60  ...               0.0               1.0\n",
              "1223   20  24.42  ...               1.0               0.0\n",
              "1137   26  22.23  ...               0.0               0.0\n",
              "...   ...    ...  ...               ...               ...\n",
              "763    27  26.03  ...               0.0               0.0\n",
              "835    42  35.97  ...               1.0               0.0\n",
              "1216   40  25.08  ...               1.0               0.0\n",
              "559    19  35.53  ...               0.0               0.0\n",
              "684    33  18.50  ...               0.0               1.0\n",
              "\n",
              "[1003 rows x 11 columns]"
            ]
          },
          "metadata": {},
          "execution_count": 19
        }
      ]
    },
    {
      "cell_type": "markdown",
      "metadata": {
        "id": "sz6c5pMWlnhO"
      },
      "source": [
        "Different types of Regression Algorithms are given below:\n",
        "\n",
        "\n",
        "1. Linear Regression (Univariate or Multivariate)\n",
        "\n",
        "2. Support Vector Regression\n",
        "\n",
        "3. Decision Tree Regression\n",
        "\n",
        "4. Random Forest Regressrion"
      ]
    },
    {
      "cell_type": "markdown",
      "metadata": {
        "id": "1XmMler2pYhR"
      },
      "source": [
        "### Multiple linear regression\n",
        "Multiple Linear Regression is one of the important regression algorithms which models the linear relationship between a single dependent continuous variable and more than one independent variable."
      ]
    },
    {
      "cell_type": "code",
      "metadata": {
        "id": "iIA7XTN8mhjQ"
      },
      "source": [
        "# Fitting Multiple Linear Regression Model to Training Set\n",
        "from sklearn.linear_model import LinearRegression\n",
        "regressor = LinearRegression()"
      ],
      "execution_count": null,
      "outputs": []
    },
    {
      "cell_type": "code",
      "metadata": {
        "colab": {
          "base_uri": "https://localhost:8080/"
        },
        "id": "RbztF5mCnDTD",
        "outputId": "b639fbdf-3c7b-47cb-b311-b811ef3c4fd0"
      },
      "source": [
        "regressor.fit(X_train,y_train)"
      ],
      "execution_count": null,
      "outputs": [
        {
          "output_type": "execute_result",
          "data": {
            "text/plain": [
              "LinearRegression()"
            ]
          },
          "metadata": {},
          "execution_count": 21
        }
      ]
    },
    {
      "cell_type": "code",
      "metadata": {
        "id": "B75ZRjK_m2pC"
      },
      "source": [
        "\n",
        "# Predicting the Test Set Results\n",
        "y_pred = regressor.predict(X_test)"
      ],
      "execution_count": null,
      "outputs": []
    },
    {
      "cell_type": "code",
      "metadata": {
        "colab": {
          "base_uri": "https://localhost:8080/",
          "height": 423
        },
        "id": "WUUeBh_Amllz",
        "outputId": "466bb612-0fc9-4977-d4fc-951c70aeb891"
      },
      "source": [
        "y_test"
      ],
      "execution_count": null,
      "outputs": [
        {
          "output_type": "execute_result",
          "data": {
            "text/html": [
              "\n",
              "  <div id=\"df-285e2e36-0cb3-4465-9505-ca5a82b8bf08\">\n",
              "    <div class=\"colab-df-container\">\n",
              "      <div>\n",
              "<style scoped>\n",
              "    .dataframe tbody tr th:only-of-type {\n",
              "        vertical-align: middle;\n",
              "    }\n",
              "\n",
              "    .dataframe tbody tr th {\n",
              "        vertical-align: top;\n",
              "    }\n",
              "\n",
              "    .dataframe thead th {\n",
              "        text-align: right;\n",
              "    }\n",
              "</style>\n",
              "<table border=\"1\" class=\"dataframe\">\n",
              "  <thead>\n",
              "    <tr style=\"text-align: right;\">\n",
              "      <th></th>\n",
              "      <th>charges</th>\n",
              "    </tr>\n",
              "  </thead>\n",
              "  <tbody>\n",
              "    <tr>\n",
              "      <th>578</th>\n",
              "      <td>9724.53000</td>\n",
              "    </tr>\n",
              "    <tr>\n",
              "      <th>610</th>\n",
              "      <td>8547.69130</td>\n",
              "    </tr>\n",
              "    <tr>\n",
              "      <th>569</th>\n",
              "      <td>45702.02235</td>\n",
              "    </tr>\n",
              "    <tr>\n",
              "      <th>1034</th>\n",
              "      <td>12950.07120</td>\n",
              "    </tr>\n",
              "    <tr>\n",
              "      <th>198</th>\n",
              "      <td>9644.25250</td>\n",
              "    </tr>\n",
              "    <tr>\n",
              "      <th>...</th>\n",
              "      <td>...</td>\n",
              "    </tr>\n",
              "    <tr>\n",
              "      <th>574</th>\n",
              "      <td>13224.05705</td>\n",
              "    </tr>\n",
              "    <tr>\n",
              "      <th>1174</th>\n",
              "      <td>4433.91590</td>\n",
              "    </tr>\n",
              "    <tr>\n",
              "      <th>1327</th>\n",
              "      <td>9377.90470</td>\n",
              "    </tr>\n",
              "    <tr>\n",
              "      <th>817</th>\n",
              "      <td>3597.59600</td>\n",
              "    </tr>\n",
              "    <tr>\n",
              "      <th>1337</th>\n",
              "      <td>29141.36030</td>\n",
              "    </tr>\n",
              "  </tbody>\n",
              "</table>\n",
              "<p>335 rows × 1 columns</p>\n",
              "</div>\n",
              "      <button class=\"colab-df-convert\" onclick=\"convertToInteractive('df-285e2e36-0cb3-4465-9505-ca5a82b8bf08')\"\n",
              "              title=\"Convert this dataframe to an interactive table.\"\n",
              "              style=\"display:none;\">\n",
              "        \n",
              "  <svg xmlns=\"http://www.w3.org/2000/svg\" height=\"24px\"viewBox=\"0 0 24 24\"\n",
              "       width=\"24px\">\n",
              "    <path d=\"M0 0h24v24H0V0z\" fill=\"none\"/>\n",
              "    <path d=\"M18.56 5.44l.94 2.06.94-2.06 2.06-.94-2.06-.94-.94-2.06-.94 2.06-2.06.94zm-11 1L8.5 8.5l.94-2.06 2.06-.94-2.06-.94L8.5 2.5l-.94 2.06-2.06.94zm10 10l.94 2.06.94-2.06 2.06-.94-2.06-.94-.94-2.06-.94 2.06-2.06.94z\"/><path d=\"M17.41 7.96l-1.37-1.37c-.4-.4-.92-.59-1.43-.59-.52 0-1.04.2-1.43.59L10.3 9.45l-7.72 7.72c-.78.78-.78 2.05 0 2.83L4 21.41c.39.39.9.59 1.41.59.51 0 1.02-.2 1.41-.59l7.78-7.78 2.81-2.81c.8-.78.8-2.07 0-2.86zM5.41 20L4 18.59l7.72-7.72 1.47 1.35L5.41 20z\"/>\n",
              "  </svg>\n",
              "      </button>\n",
              "      \n",
              "  <style>\n",
              "    .colab-df-container {\n",
              "      display:flex;\n",
              "      flex-wrap:wrap;\n",
              "      gap: 12px;\n",
              "    }\n",
              "\n",
              "    .colab-df-convert {\n",
              "      background-color: #E8F0FE;\n",
              "      border: none;\n",
              "      border-radius: 50%;\n",
              "      cursor: pointer;\n",
              "      display: none;\n",
              "      fill: #1967D2;\n",
              "      height: 32px;\n",
              "      padding: 0 0 0 0;\n",
              "      width: 32px;\n",
              "    }\n",
              "\n",
              "    .colab-df-convert:hover {\n",
              "      background-color: #E2EBFA;\n",
              "      box-shadow: 0px 1px 2px rgba(60, 64, 67, 0.3), 0px 1px 3px 1px rgba(60, 64, 67, 0.15);\n",
              "      fill: #174EA6;\n",
              "    }\n",
              "\n",
              "    [theme=dark] .colab-df-convert {\n",
              "      background-color: #3B4455;\n",
              "      fill: #D2E3FC;\n",
              "    }\n",
              "\n",
              "    [theme=dark] .colab-df-convert:hover {\n",
              "      background-color: #434B5C;\n",
              "      box-shadow: 0px 1px 3px 1px rgba(0, 0, 0, 0.15);\n",
              "      filter: drop-shadow(0px 1px 2px rgba(0, 0, 0, 0.3));\n",
              "      fill: #FFFFFF;\n",
              "    }\n",
              "  </style>\n",
              "\n",
              "      <script>\n",
              "        const buttonEl =\n",
              "          document.querySelector('#df-285e2e36-0cb3-4465-9505-ca5a82b8bf08 button.colab-df-convert');\n",
              "        buttonEl.style.display =\n",
              "          google.colab.kernel.accessAllowed ? 'block' : 'none';\n",
              "\n",
              "        async function convertToInteractive(key) {\n",
              "          const element = document.querySelector('#df-285e2e36-0cb3-4465-9505-ca5a82b8bf08');\n",
              "          const dataTable =\n",
              "            await google.colab.kernel.invokeFunction('convertToInteractive',\n",
              "                                                     [key], {});\n",
              "          if (!dataTable) return;\n",
              "\n",
              "          const docLinkHtml = 'Like what you see? Visit the ' +\n",
              "            '<a target=\"_blank\" href=https://colab.research.google.com/notebooks/data_table.ipynb>data table notebook</a>'\n",
              "            + ' to learn more about interactive tables.';\n",
              "          element.innerHTML = '';\n",
              "          dataTable['output_type'] = 'display_data';\n",
              "          await google.colab.output.renderOutput(dataTable, element);\n",
              "          const docLink = document.createElement('div');\n",
              "          docLink.innerHTML = docLinkHtml;\n",
              "          element.appendChild(docLink);\n",
              "        }\n",
              "      </script>\n",
              "    </div>\n",
              "  </div>\n",
              "  "
            ],
            "text/plain": [
              "          charges\n",
              "578    9724.53000\n",
              "610    8547.69130\n",
              "569   45702.02235\n",
              "1034  12950.07120\n",
              "198    9644.25250\n",
              "...           ...\n",
              "574   13224.05705\n",
              "1174   4433.91590\n",
              "1327   9377.90470\n",
              "817    3597.59600\n",
              "1337  29141.36030\n",
              "\n",
              "[335 rows x 1 columns]"
            ]
          },
          "metadata": {},
          "execution_count": 23
        }
      ]
    },
    {
      "cell_type": "code",
      "metadata": {
        "colab": {
          "base_uri": "https://localhost:8080/"
        },
        "id": "UP3YbgA1mqnR",
        "outputId": "ef8fab68-bdd9-4436-a8f8-287e35c775fd"
      },
      "source": [
        "y_pred"
      ],
      "execution_count": null,
      "outputs": [
        {
          "output_type": "execute_result",
          "data": {
            "text/plain": [
              "array([[11121.10140924],\n",
              "       [ 9369.08345223],\n",
              "       [38349.2588068 ],\n",
              "       [16331.93500645],\n",
              "       [ 7041.22770615],\n",
              "       [ 4103.24923177],\n",
              "       [ 1734.03805961],\n",
              "       [14478.86491464],\n",
              "       [ 9168.77981235],\n",
              "       [ 7715.94671029],\n",
              "       [ 4625.04765547],\n",
              "       [10398.53755318],\n",
              "       [ 8756.48015868],\n",
              "       [ 3738.25833927],\n",
              "       [28190.41129687],\n",
              "       [10600.67828764],\n",
              "       [11395.63055992],\n",
              "       [ 6248.83935385],\n",
              "       [ 8423.19721152],\n",
              "       [27360.73273479],\n",
              "       [33843.62542848],\n",
              "       [14432.50562897],\n",
              "       [11759.04359894],\n",
              "       [32070.2132407 ],\n",
              "       [ 4152.83526684],\n",
              "       [ 9364.57488075],\n",
              "       [ 1227.5561631 ],\n",
              "       [ 9712.31328139],\n",
              "       [ 3714.56843696],\n",
              "       [10585.88359557],\n",
              "       [ 9162.47300707],\n",
              "       [39963.69536536],\n",
              "       [15580.1455371 ],\n",
              "       [13795.75096539],\n",
              "       [24960.11670118],\n",
              "       [ 5274.13784945],\n",
              "       [12507.41956494],\n",
              "       [30840.51073591],\n",
              "       [33738.39701967],\n",
              "       [ 3693.97640602],\n",
              "       [ 4083.679354  ],\n",
              "       [ 3960.78010537],\n",
              "       [30688.77955811],\n",
              "       [39647.57881672],\n",
              "       [27822.13821979],\n",
              "       [ 5297.22284982],\n",
              "       [10490.69035982],\n",
              "       [ 8000.03303241],\n",
              "       [ 3721.57055488],\n",
              "       [10074.13524545],\n",
              "       [ 5834.48592072],\n",
              "       [ 3655.97278651],\n",
              "       [33043.86058963],\n",
              "       [38550.26073255],\n",
              "       [15858.08435828],\n",
              "       [ 7288.48878169],\n",
              "       [ 5703.38341826],\n",
              "       [ 9590.69948854],\n",
              "       [ 8867.40056079],\n",
              "       [11837.84431982],\n",
              "       [ 1923.92229602],\n",
              "       [39063.95684316],\n",
              "       [14765.28155823],\n",
              "       [11762.93408998],\n",
              "       [14123.71276572],\n",
              "       [13957.34599256],\n",
              "       [25885.79486405],\n",
              "       [32480.77895206],\n",
              "       [  814.28218471],\n",
              "       [10346.2032403 ],\n",
              "       [12250.40022773],\n",
              "       [11407.25345172],\n",
              "       [25364.07951761],\n",
              "       [15422.36343888],\n",
              "       [11287.37791341],\n",
              "       [12652.04892671],\n",
              "       [ 6544.93054826],\n",
              "       [ 9514.05561162],\n",
              "       [30332.45726728],\n",
              "       [39062.2012877 ],\n",
              "       [12063.06190179],\n",
              "       [37192.26604341],\n",
              "       [ 4486.23138255],\n",
              "       [ 9370.03651263],\n",
              "       [34981.28905104],\n",
              "       [28872.68538793],\n",
              "       [ 8670.10336815],\n",
              "       [ 5138.54479015],\n",
              "       [11972.26507827],\n",
              "       [30531.97480614],\n",
              "       [10172.41294539],\n",
              "       [11329.35500831],\n",
              "       [ 8487.88718807],\n",
              "       [ 8797.71595949],\n",
              "       [ 8536.09601948],\n",
              "       [ 7419.85713648],\n",
              "       [36116.05721784],\n",
              "       [33218.71868929],\n",
              "       [ 7830.40732204],\n",
              "       [15045.79334634],\n",
              "       [ 3999.69832627],\n",
              "       [ 9000.51237981],\n",
              "       [ 6268.27398444],\n",
              "       [31531.56146053],\n",
              "       [33206.00811521],\n",
              "       [ 2177.45152033],\n",
              "       [ 8979.79247894],\n",
              "       [ 6860.45043613],\n",
              "       [14603.07347626],\n",
              "       [37203.29677137],\n",
              "       [10258.20025839],\n",
              "       [10521.43085883],\n",
              "       [10342.58889465],\n",
              "       [27208.72358336],\n",
              "       [39793.35489263],\n",
              "       [ 8572.05334331],\n",
              "       [  383.19995261],\n",
              "       [ 8978.71508972],\n",
              "       [15171.91388745],\n",
              "       [ 9695.08991651],\n",
              "       [35122.54463332],\n",
              "       [ 7386.36940826],\n",
              "       [16833.76924798],\n",
              "       [ 9780.36133572],\n",
              "       [ 8206.72008448],\n",
              "       [ 3150.56180887],\n",
              "       [33023.9576962 ],\n",
              "       [31709.44883314],\n",
              "       [39569.70370315],\n",
              "       [ 5819.2388215 ],\n",
              "       [ 9207.49139829],\n",
              "       [ 3594.44051439],\n",
              "       [ 7557.66601071],\n",
              "       [ 8704.130514  ],\n",
              "       [31767.32756312],\n",
              "       [30032.74793918],\n",
              "       [29769.4990372 ],\n",
              "       [ 8618.63353832],\n",
              "       [32363.52085189],\n",
              "       [ 3595.4377035 ],\n",
              "       [ 3909.33767121],\n",
              "       [11253.08161641],\n",
              "       [13037.90009357],\n",
              "       [12905.87475441],\n",
              "       [ 5650.52090296],\n",
              "       [15379.21442612],\n",
              "       [14753.98075861],\n",
              "       [ 2631.20797192],\n",
              "       [  284.48714214],\n",
              "       [10910.02278107],\n",
              "       [ 7495.92629467],\n",
              "       [31846.57729011],\n",
              "       [12439.31617335],\n",
              "       [ 2347.91066581],\n",
              "       [ 6666.11780163],\n",
              "       [ 7764.66912604],\n",
              "       [ 4675.13961172],\n",
              "       [ 2127.93481018],\n",
              "       [11474.0151399 ],\n",
              "       [12655.01342743],\n",
              "       [ 7415.08219308],\n",
              "       [16212.02837622],\n",
              "       [11888.97854889],\n",
              "       [14037.26841524],\n",
              "       [ 3304.71318104],\n",
              "       [ 7455.13467347],\n",
              "       [23234.20251169],\n",
              "       [ 7705.83742345],\n",
              "       [ 5631.47170518],\n",
              "       [ 5155.40902529],\n",
              "       [ 6969.71464754],\n",
              "       [ 5354.89227216],\n",
              "       [10135.64264959],\n",
              "       [ 5349.72973251],\n",
              "       [ 5785.05540196],\n",
              "       [ 6635.4840481 ],\n",
              "       [ 3866.72227914],\n",
              "       [ 5761.40665512],\n",
              "       [38158.33828783],\n",
              "       [ 1683.97474941],\n",
              "       [12735.30690712],\n",
              "       [ 9153.53309613],\n",
              "       [13874.81969242],\n",
              "       [ 5366.93326467],\n",
              "       [ 5335.97185632],\n",
              "       [36537.26807814],\n",
              "       [ 4552.71155087],\n",
              "       [ 2086.59471242],\n",
              "       [15264.3264118 ],\n",
              "       [12716.25770934],\n",
              "       [35245.2548735 ],\n",
              "       [ 4741.41573532],\n",
              "       [ 5672.22825825],\n",
              "       [31197.08652051],\n",
              "       [ 6408.22584642],\n",
              "       [ 2208.12235869],\n",
              "       [ 8556.15716517],\n",
              "       [10137.59635141],\n",
              "       [ 7961.53224662],\n",
              "       [ 6008.27621562],\n",
              "       [13176.50948513],\n",
              "       [38352.50783395],\n",
              "       [13834.05839613],\n",
              "       [28975.77875494],\n",
              "       [ 6995.0710336 ],\n",
              "       [35445.43840901],\n",
              "       [ 3939.50886974],\n",
              "       [11767.38703727],\n",
              "       [ 8972.56758879],\n",
              "       [ 6231.88873332],\n",
              "       [11495.7268554 ],\n",
              "       [14545.53360188],\n",
              "       [ 5369.0676865 ],\n",
              "       [ 4477.76246538],\n",
              "       [ 7902.81254894],\n",
              "       [ 1408.21015639],\n",
              "       [ 7988.3022048 ],\n",
              "       [ 4535.35332182],\n",
              "       [12742.05951261],\n",
              "       [ 4363.35283569],\n",
              "       [10089.24220844],\n",
              "       [ 7300.65190624],\n",
              "       [ 9231.73028826],\n",
              "       [ 2535.207216  ],\n",
              "       [13133.09792315],\n",
              "       [16924.07543401],\n",
              "       [14775.7019177 ],\n",
              "       [10500.0535906 ],\n",
              "       [ 5265.70669635],\n",
              "       [ 2226.91874092],\n",
              "       [ 1942.35954852],\n",
              "       [13563.29488347],\n",
              "       [13871.81528745],\n",
              "       [ 5181.04224028],\n",
              "       [ 3710.34411545],\n",
              "       [ 9478.23526209],\n",
              "       [10029.11076688],\n",
              "       [28487.9940125 ],\n",
              "       [ 7762.49489788],\n",
              "       [10518.88389627],\n",
              "       [ 6296.92323115],\n",
              "       [30140.72703053],\n",
              "       [11098.12626929],\n",
              "       [ 7576.21977436],\n",
              "       [10401.14033393],\n",
              "       [12366.52919975],\n",
              "       [ 3192.20588811],\n",
              "       [10991.61973466],\n",
              "       [ 1689.76125771],\n",
              "       [ 7151.43405448],\n",
              "       [28443.15403614],\n",
              "       [38624.93955237],\n",
              "       [ 6379.28377021],\n",
              "       [ 8118.60317651],\n",
              "       [ 2683.93379983],\n",
              "       [  639.08943517],\n",
              "       [10536.57514098],\n",
              "       [ 4165.51767495],\n",
              "       [ 5200.74089999],\n",
              "       [ 2312.93290459],\n",
              "       [ 6760.13309472],\n",
              "       [33397.58307294],\n",
              "       [38310.40679323],\n",
              "       [14825.20670057],\n",
              "       [ 8446.47111382],\n",
              "       [16157.7232546 ],\n",
              "       [32883.85788865],\n",
              "       [ 9571.59093679],\n",
              "       [33651.93864121],\n",
              "       [ 3372.20261012],\n",
              "       [30977.13462084],\n",
              "       [ 8226.75636218],\n",
              "       [14208.78118882],\n",
              "       [ 4334.71349904],\n",
              "       [32230.41371867],\n",
              "       [ 8490.09883679],\n",
              "       [11100.97310023],\n",
              "       [ 8964.41574831],\n",
              "       [ 4523.1304603 ],\n",
              "       [12609.11023502],\n",
              "       [11831.95897148],\n",
              "       [ 8722.92138189],\n",
              "       [13361.90220869],\n",
              "       [ 3000.56571324],\n",
              "       [10770.49807526],\n",
              "       [ 5584.3590919 ],\n",
              "       [10786.54038437],\n",
              "       [31738.38046179],\n",
              "       [ 9848.52408129],\n",
              "       [ 1462.33241003],\n",
              "       [  788.95636585],\n",
              "       [39945.71215423],\n",
              "       [ 9785.914906  ],\n",
              "       [ 7356.53037079],\n",
              "       [14087.36392686],\n",
              "       [13458.32480455],\n",
              "       [27467.78950831],\n",
              "       [ 7172.78189703],\n",
              "       [ 6968.50425704],\n",
              "       [12178.3638989 ],\n",
              "       [ 3229.16393683],\n",
              "       [ 3657.05510794],\n",
              "       [25236.63678023],\n",
              "       [26040.61668601],\n",
              "       [12862.46482666],\n",
              "       [ 3466.70283736],\n",
              "       [ 4818.96534204],\n",
              "       [ 9354.56280485],\n",
              "       [12563.88645494],\n",
              "       [23839.16222875],\n",
              "       [31083.37421155],\n",
              "       [10139.05715622],\n",
              "       [24399.63908197],\n",
              "       [ 3184.23767301],\n",
              "       [11295.28383998],\n",
              "       [ 7301.31137431],\n",
              "       [ 8323.52275598],\n",
              "       [   40.42623033],\n",
              "       [ 7906.11476025],\n",
              "       [35912.68544936],\n",
              "       [ 6373.77173841],\n",
              "       [ 6454.06521811],\n",
              "       [  524.52960038],\n",
              "       [10496.8769542 ],\n",
              "       [ 6477.23937265],\n",
              "       [ 9478.78454498],\n",
              "       [38966.15272209],\n",
              "       [27988.83010317],\n",
              "       [11622.38000377],\n",
              "       [35376.92108292],\n",
              "       [15034.10664745],\n",
              "       [ 7121.72379896],\n",
              "       [10602.9308927 ],\n",
              "       [ 7050.86479611],\n",
              "       [36872.2997274 ]])"
            ]
          },
          "metadata": {},
          "execution_count": 24
        }
      ]
    },
    {
      "cell_type": "markdown",
      "metadata": {
        "id": "LcNYI_iN6jlb"
      },
      "source": [
        "Evaluation Metrices are given below:\n",
        "\n",
        "1. Mean Absolute Error (MAE)\n",
        "\n",
        "2. Mean Squared Error (MSE)\n",
        "\n",
        "3. R-Squared Error\n",
        "\n",
        "In machine learning, absolute error refers to the magnitude of difference between the prediction of an observation and the true value of that observation. MAE takes the average of absolute errors for a group of predictions and observations as a measurement of the magnitude of errors for the entire group.\n",
        "\n",
        "Mean squared error (MSE) is the average of sum of squared difference between actual value and the predicted or estimated value. It is also termed as mean squared deviation (MSD).\n",
        "\n",
        "R-Squared is the ratio of Sum of Squares Regression (SSR) and Sum of Squares Total (SST). Sum of Squares Regression is amount of variance explained by the regression line. R-squared value is used to measure the goodness of fit. Greater the value of R-Squared, better is the regression model."
      ]
    },
    {
      "cell_type": "code",
      "metadata": {
        "colab": {
          "base_uri": "https://localhost:8080/"
        },
        "id": "gIj_Ftlfm5AV",
        "outputId": "4b6a7c23-89bb-476e-ce2d-c0da3e7b025c"
      },
      "source": [
        "from sklearn.metrics import mean_absolute_error\n",
        "\n",
        "# MAE\n",
        "\n",
        "mean_absolute_error(y_test, y_pred)"
      ],
      "execution_count": null,
      "outputs": [
        {
          "output_type": "execute_result",
          "data": {
            "text/plain": [
              "4012.715276853087"
            ]
          },
          "metadata": {},
          "execution_count": 25
        }
      ]
    },
    {
      "cell_type": "code",
      "metadata": {
        "colab": {
          "base_uri": "https://localhost:8080/"
        },
        "id": "50B3k_N6m9ur",
        "outputId": "c398362a-2047-4b31-d458-097d9265aed5"
      },
      "source": [
        "from sklearn.metrics import mean_squared_error\n",
        "\n",
        "mean_squared_error(y_test, y_pred)"
      ],
      "execution_count": null,
      "outputs": [
        {
          "output_type": "execute_result",
          "data": {
            "text/plain": [
              "32135747.239381798"
            ]
          },
          "metadata": {},
          "execution_count": 26
        }
      ]
    },
    {
      "cell_type": "code",
      "metadata": {
        "colab": {
          "base_uri": "https://localhost:8080/"
        },
        "id": "p3VqhhB6nEXI",
        "outputId": "516983e1-afd8-4a74-ed69-183669617d6e"
      },
      "source": [
        "from sklearn.metrics import r2_score\n",
        "\n",
        "r2_score(y_test, y_pred)"
      ],
      "execution_count": null,
      "outputs": [
        {
          "output_type": "execute_result",
          "data": {
            "text/plain": [
              "0.7958786376014413"
            ]
          },
          "metadata": {},
          "execution_count": 27
        }
      ]
    },
    {
      "cell_type": "markdown",
      "metadata": {
        "id": "C25yNvfsDiKX"
      },
      "source": [
        "So, r squared is 0.796 for multiple linear regression algorithm."
      ]
    },
    {
      "cell_type": "markdown",
      "metadata": {
        "id": "CkeAQriq6ws8"
      },
      "source": [
        "### Support Vector Regression\n",
        "\n",
        "SVM or Support Vector Machine is a linear model for classification and regression problems. The idea of SVM is simple: The algorithm creates a line or a hyperplane which separates the data into classes."
      ]
    },
    {
      "cell_type": "code",
      "metadata": {
        "id": "RO9Hac2ECE15"
      },
      "source": [
        "from sklearn.preprocessing import StandardScaler\n",
        "X_sc = StandardScaler()\n",
        "y_sc = StandardScaler()\n",
        "X_train_new = X_sc.fit_transform(X_train[['age','bmi','children','smoker_no', 'smoker_yes','sex_female', 'sex_male','region_northeast', 'region_northwest','region_southeast', 'region_southwest']])\n",
        "X_test_new = X_sc.transform(X_test[['age','bmi','children','smoker_no', 'smoker_yes','sex_female', 'sex_male','region_northeast', 'region_northwest','region_southeast', 'region_southwest']])\n",
        "y_train_new = y_sc.fit_transform(y_train[['charges']])\n",
        "y_test_new = y_sc.transform(y_test[['charges']])"
      ],
      "execution_count": null,
      "outputs": []
    },
    {
      "cell_type": "code",
      "metadata": {
        "colab": {
          "base_uri": "https://localhost:8080/"
        },
        "id": "-mg2ns1ksBLr",
        "outputId": "0864090f-d991-49d6-d03e-45c2b2ce3f91"
      },
      "source": [
        "\n",
        "# Fitting SVR to the dataset\n",
        "from sklearn.svm import SVR \n",
        "regressor = SVR(kernel = 'linear')\n",
        "regressor.fit(X_train_new,y_train_new)"
      ],
      "execution_count": null,
      "outputs": [
        {
          "output_type": "execute_result",
          "data": {
            "text/plain": [
              "SVR(kernel='linear')"
            ]
          },
          "metadata": {},
          "execution_count": 29
        }
      ]
    },
    {
      "cell_type": "code",
      "metadata": {
        "id": "woTu-RlUsETl"
      },
      "source": [
        "y_pred = regressor.predict(X_test_new)"
      ],
      "execution_count": null,
      "outputs": []
    },
    {
      "cell_type": "code",
      "metadata": {
        "colab": {
          "base_uri": "https://localhost:8080/"
        },
        "id": "C0FI59JS7sTH",
        "outputId": "cc781e55-ea8e-4198-f061-6b6852ef5a98"
      },
      "source": [
        "mean_absolute_error(y_test_new, y_pred)"
      ],
      "execution_count": null,
      "outputs": [
        {
          "output_type": "execute_result",
          "data": {
            "text/plain": [
              "0.2722126001092648"
            ]
          },
          "metadata": {},
          "execution_count": 31
        }
      ]
    },
    {
      "cell_type": "code",
      "metadata": {
        "colab": {
          "base_uri": "https://localhost:8080/"
        },
        "id": "jd16xocQ8KYi",
        "outputId": "63de349f-f26b-4cae-8e3a-25904760cd86"
      },
      "source": [
        "mean_squared_error(y_test_new, y_pred)"
      ],
      "execution_count": null,
      "outputs": [
        {
          "output_type": "execute_result",
          "data": {
            "text/plain": [
              "0.2708450958795668"
            ]
          },
          "metadata": {},
          "execution_count": 32
        }
      ]
    },
    {
      "cell_type": "code",
      "metadata": {
        "colab": {
          "base_uri": "https://localhost:8080/"
        },
        "id": "oybQOUWwsGio",
        "outputId": "e72c9b8a-827f-4f29-aa7d-cadf447908ed"
      },
      "source": [
        "r2_score(y_test_new, y_pred)"
      ],
      "execution_count": null,
      "outputs": [
        {
          "output_type": "execute_result",
          "data": {
            "text/plain": [
              "0.7541715424584545"
            ]
          },
          "metadata": {},
          "execution_count": 33
        }
      ]
    },
    {
      "cell_type": "markdown",
      "metadata": {
        "id": "V_bPYL78D4pP"
      },
      "source": [
        "So, r squared is 0.754 for Support Vector Regression alogorithm."
      ]
    },
    {
      "cell_type": "markdown",
      "metadata": {
        "id": "p6MkacC965Hb"
      },
      "source": [
        "### Decision Tree Regression\n",
        "Decision tree builds regression or classification models in the form of a tree structure. It breaks down a dataset into smaller and smaller subsets while at the same time an associated decision tree is incrementally developed. The final result is a tree with decision nodes and leaf nodes."
      ]
    },
    {
      "cell_type": "code",
      "metadata": {
        "colab": {
          "base_uri": "https://localhost:8080/"
        },
        "id": "ywwQ3b16sWaR",
        "outputId": "611f757b-0674-4591-ccae-7680c0d56ba4"
      },
      "source": [
        "# Fitting the decision tree regression with the dataset\n",
        "from sklearn.tree import DecisionTreeRegressor\n",
        "regressor = DecisionTreeRegressor(random_state = 0)\n",
        "regressor.fit(X_train,y_train) \n"
      ],
      "execution_count": null,
      "outputs": [
        {
          "output_type": "execute_result",
          "data": {
            "text/plain": [
              "DecisionTreeRegressor(random_state=0)"
            ]
          },
          "metadata": {},
          "execution_count": 34
        }
      ]
    },
    {
      "cell_type": "code",
      "metadata": {
        "id": "E09L3YMBsbnN"
      },
      "source": [
        "y_pred = regressor.predict(X_test)\n"
      ],
      "execution_count": null,
      "outputs": []
    },
    {
      "cell_type": "code",
      "metadata": {
        "colab": {
          "base_uri": "https://localhost:8080/"
        },
        "id": "35MApu4T74ID",
        "outputId": "22048e5b-bf93-409f-e5cd-861264e78cc3"
      },
      "source": [
        "mean_absolute_error(y_test, y_pred)"
      ],
      "execution_count": null,
      "outputs": [
        {
          "output_type": "execute_result",
          "data": {
            "text/plain": [
              "3021.131019817911"
            ]
          },
          "metadata": {},
          "execution_count": 36
        }
      ]
    },
    {
      "cell_type": "code",
      "metadata": {
        "colab": {
          "base_uri": "https://localhost:8080/"
        },
        "id": "iRZvp5td8M5E",
        "outputId": "bc477aed-4e4a-47b3-ab04-22d42f7d3831"
      },
      "source": [
        "mean_squared_error(y_test, y_pred)"
      ],
      "execution_count": null,
      "outputs": [
        {
          "output_type": "execute_result",
          "data": {
            "text/plain": [
              "43846928.819191664"
            ]
          },
          "metadata": {},
          "execution_count": 37
        }
      ]
    },
    {
      "cell_type": "code",
      "metadata": {
        "colab": {
          "base_uri": "https://localhost:8080/"
        },
        "id": "lO11z5OZ70UI",
        "outputId": "62e17390-f6c6-4ef9-95f1-60d7299d141a"
      },
      "source": [
        "r2_score(y_test, y_pred)"
      ],
      "execution_count": null,
      "outputs": [
        {
          "output_type": "execute_result",
          "data": {
            "text/plain": [
              "0.7214909993878144"
            ]
          },
          "metadata": {},
          "execution_count": 38
        }
      ]
    },
    {
      "cell_type": "markdown",
      "metadata": {
        "id": "GKL2_UZfEA2o"
      },
      "source": [
        "So, r squared is 0.72 for Decision tree regression algorithm."
      ]
    },
    {
      "cell_type": "markdown",
      "metadata": {
        "id": "iAxLAE0a7D5m"
      },
      "source": [
        "### Random Forest Regression\n",
        "Random Forest Regression is a supervised learning algorithm that uses ensemble learning method for regression. A Random Forest operates by constructing several decision trees during training time and outputting the mean of the classes as the prediction of all the trees."
      ]
    },
    {
      "cell_type": "code",
      "metadata": {
        "colab": {
          "base_uri": "https://localhost:8080/"
        },
        "id": "UVCzcJL5sjMd",
        "outputId": "91c60004-abe7-4fd0-ae96-7c5a4fd649fb"
      },
      "source": [
        "# Fitting the Random Forest Regression with the dataset\n",
        "from sklearn.ensemble import RandomForestRegressor\n",
        "\n",
        "regressor = RandomForestRegressor(n_estimators = 10,random_state = 0) # n estiamator is the number of decision trees\n",
        "regressor.fit(X_train,y_train)"
      ],
      "execution_count": null,
      "outputs": [
        {
          "output_type": "execute_result",
          "data": {
            "text/plain": [
              "RandomForestRegressor(n_estimators=10, random_state=0)"
            ]
          },
          "metadata": {},
          "execution_count": 39
        }
      ]
    },
    {
      "cell_type": "code",
      "metadata": {
        "id": "nvSDGND87_qs"
      },
      "source": [
        "y_pred = regressor.predict(X_test)"
      ],
      "execution_count": null,
      "outputs": []
    },
    {
      "cell_type": "code",
      "metadata": {
        "colab": {
          "base_uri": "https://localhost:8080/"
        },
        "id": "OM04cIMP7-A3",
        "outputId": "33745ff9-ad47-4565-e403-2f481b0735f7"
      },
      "source": [
        "mean_absolute_error(y_test, y_pred)"
      ],
      "execution_count": null,
      "outputs": [
        {
          "output_type": "execute_result",
          "data": {
            "text/plain": [
              "2763.557355874627"
            ]
          },
          "metadata": {},
          "execution_count": 41
        }
      ]
    },
    {
      "cell_type": "code",
      "metadata": {
        "colab": {
          "base_uri": "https://localhost:8080/"
        },
        "id": "9tTE_LfJ8QX_",
        "outputId": "91e98460-9d0a-48ca-e32e-4ded43615493"
      },
      "source": [
        "mean_squared_error(y_test, y_pred)"
      ],
      "execution_count": null,
      "outputs": [
        {
          "output_type": "execute_result",
          "data": {
            "text/plain": [
              "21805383.963926636"
            ]
          },
          "metadata": {},
          "execution_count": 42
        }
      ]
    },
    {
      "cell_type": "code",
      "metadata": {
        "colab": {
          "base_uri": "https://localhost:8080/"
        },
        "id": "uFyQwuXhsn9E",
        "outputId": "1bdba218-d0fd-4364-8935-6b9fb7a6285e"
      },
      "source": [
        "r2_score(y_test, y_pred)"
      ],
      "execution_count": null,
      "outputs": [
        {
          "output_type": "execute_result",
          "data": {
            "text/plain": [
              "0.8614955286651672"
            ]
          },
          "metadata": {},
          "execution_count": 43
        }
      ]
    },
    {
      "cell_type": "markdown",
      "metadata": {
        "id": "yPjFSqcI0eWH"
      },
      "source": [
        "R squared = 0.796 (Multiple linear regression)\n",
        "\n",
        "R squared = 0.754 (Support vector regression)\n",
        "\n",
        "R squared = 0.72 (Decision tree regression)\n",
        "\n",
        "R squared = 0.86 (Random forest Regression)\n",
        "\n",
        "Thus, Random forest regression can predict the insurance more accurately rather than other regression algorithms. As greater the value of R-Squared, better is the regression model. So, it can be said that the performance of random forest regression is better than other algoritms for this dataset."
      ]
    }
  ]
}